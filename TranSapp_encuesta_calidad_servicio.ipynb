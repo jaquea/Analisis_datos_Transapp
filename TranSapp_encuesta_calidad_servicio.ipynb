{
 "cells": [
  {
   "cell_type": "code",
   "execution_count": 32,
   "metadata": {},
   "outputs": [],
   "source": [
    "from pandas import DataFrame, read_csv\n",
    "import matplotlib.pyplot as plt\n",
    "import pandas as pd #this is how I usually import pandas\n",
    "import sys #only needed to determine Python version number\n",
    "import matplotlib.pyplot as plt\n",
    "import numpy as np\n",
    "from datetime import datetime\n",
    "from dateutil.parser import parse\n",
    "import glob\n",
    "import os"
   ]
  },
  {
   "cell_type": "code",
   "execution_count": 126,
   "metadata": {},
   "outputs": [],
   "source": [
    "project_path='/mnt/c/Users/jacke/Desktop/DatosTranSapp'\n",
    "trip_file_path = os.path.join(project_path, 'processedTrips.csv')\n",
    "trips = pd.read_csv(trip_file_path, sep=';')"
   ]
  },
  {
   "cell_type": "code",
   "execution_count": 127,
   "metadata": {},
   "outputs": [],
   "source": [
    "#leo datos\n",
    "#df = pd.read_csv('C:\\\\Users\\\\jacke\\\\Desktop\\\\DatosTranSapp\\\\Agosto-Febrero\\\\viajes.csv', index_col=False, header=0, delimiter=\";\")\n",
    "#aqui agregar meses que se quieren evaluar\n",
    "Mes1=3\n",
    "Mes2=4\n",
    "Mes3=5\n",
    "\n",
    "Meses=[Mes1, Mes2, Mes3]\n",
    "\n",
    "#aqui agregar ano a evaluar\n",
    "ano=2018"
   ]
  },
  {
   "cell_type": "code",
   "execution_count": 128,
   "metadata": {},
   "outputs": [],
   "source": [
    "trips['date'] =  pd.to_datetime(trips['date'], format='%Y-%m-%d')"
   ]
  },
  {
   "cell_type": "code",
   "execution_count": 129,
   "metadata": {},
   "outputs": [],
   "source": [
    "trips['year'] = trips['date'] .dt.year\n",
    "trips['month'] = trips['date'] .dt.month"
   ]
  },
  {
   "cell_type": "code",
   "execution_count": 130,
   "metadata": {},
   "outputs": [
    {
     "data": {
      "text/plain": [
       "month  year\n",
       "3      2019    18909\n",
       "4      2019    17205\n",
       "5      2019    15755\n",
       "dtype: int64"
      ]
     },
     "execution_count": 130,
     "metadata": {},
     "output_type": "execute_result"
    }
   ],
   "source": [
    "trips.groupby(['month', 'year']).size()"
   ]
  },
  {
   "cell_type": "code",
   "execution_count": 92,
   "metadata": {},
   "outputs": [
    {
     "data": {
      "text/plain": [
       "month  year\n",
       "3      2019    9875\n",
       "4      2019    8963\n",
       "5      2019    8320\n",
       "dtype: int64"
      ]
     },
     "execution_count": 92,
     "metadata": {},
     "output_type": "execute_result"
    }
   ],
   "source": [
    "#viajes que duran 3 o más minutos\n",
    "df=trips[(trips['duration(min)']>3)].reset_index(drop=True)\n",
    "df.groupby(['month', 'year']).size()"
   ]
  },
  {
   "cell_type": "code",
   "execution_count": 93,
   "metadata": {},
   "outputs": [
    {
     "data": {
      "text/plain": [
       "month  year\n",
       "3      2019    8658\n",
       "4      2019    7872\n",
       "5      2019    7313\n",
       "dtype: int64"
      ]
     },
     "execution_count": 93,
     "metadata": {},
     "output_type": "execute_result"
    }
   ],
   "source": [
    "#viajes con distancia mayor a 500 mts.\n",
    "df=df[(df['distEuclidian(mts)']>500)].reset_index(drop=True)\n",
    "df.groupby(['month', 'year']).size()"
   ]
  },
  {
   "cell_type": "code",
   "execution_count": 109,
   "metadata": {},
   "outputs": [
    {
     "data": {
      "text/plain": [
       "month  year\n",
       "3      2019    6087\n",
       "4      2019    5615\n",
       "5      2019    4756\n",
       "dtype: int64"
      ]
     },
     "execution_count": 109,
     "metadata": {},
     "output_type": "execute_result"
    }
   ],
   "source": [
    "df=df[(df['duration(min)']<100)].reset_index(drop=True)\n",
    "df.groupby(['month', 'year']).size()"
   ]
  },
  {
   "cell_type": "code",
   "execution_count": 131,
   "metadata": {},
   "outputs": [
    {
     "data": {
      "text/plain": [
       "month  year\n",
       "3      2019    6087\n",
       "4      2019    5615\n",
       "5      2019    4756\n",
       "dtype: int64"
      ]
     },
     "execution_count": 131,
     "metadata": {},
     "output_type": "execute_result"
    }
   ],
   "source": [
    "df=df[(df['evaluation']>0)].reset_index(drop=True)\n",
    "df.groupby(['month', 'year']).size()"
   ]
  },
  {
   "cell_type": "code",
   "execution_count": 123,
   "metadata": {},
   "outputs": [
    {
     "data": {
      "text/plain": [
       "0    7\n",
       "1    7\n",
       "2    7\n",
       "3    7\n",
       "4    7\n",
       "Name: evaluation, dtype: int64"
      ]
     },
     "execution_count": 123,
     "metadata": {},
     "output_type": "execute_result"
    }
   ],
   "source": [
    "df['evaluation'].head()"
   ]
  },
  {
   "cell_type": "markdown",
   "metadata": {},
   "source": [
    "#viajes que contienen evaluación\n",
    "df=df[(df['evaluation'].notnull())].reset_index(drop=True)\n",
    "df.groupby(['month']).size()"
   ]
  },
  {
   "cell_type": "markdown",
   "metadata": {},
   "source": [
    "#viajes que tienen patente distinta a DUMMYLPT\n",
    "df=df[(df['plate']!='DUMMYLPT')].reset_index(drop=True)\n",
    "df.groupby(['month']).size()"
   ]
  },
  {
   "cell_type": "code",
   "execution_count": 132,
   "metadata": {},
   "outputs": [
    {
     "data": {
      "text/html": [
       "<div>\n",
       "<style scoped>\n",
       "    .dataframe tbody tr th:only-of-type {\n",
       "        vertical-align: middle;\n",
       "    }\n",
       "\n",
       "    .dataframe tbody tr th {\n",
       "        vertical-align: top;\n",
       "    }\n",
       "\n",
       "    .dataframe thead th {\n",
       "        text-align: right;\n",
       "    }\n",
       "</style>\n",
       "<table border=\"1\" class=\"dataframe\">\n",
       "  <thead>\n",
       "    <tr style=\"text-align: right;\">\n",
       "      <th></th>\n",
       "      <th># recorridos</th>\n",
       "      <th>N Muestral</th>\n",
       "      <th>N Usuarios</th>\n",
       "    </tr>\n",
       "    <tr>\n",
       "      <th>carrier</th>\n",
       "      <th></th>\n",
       "      <th></th>\n",
       "      <th></th>\n",
       "    </tr>\n",
       "  </thead>\n",
       "  <tbody>\n",
       "    <tr>\n",
       "      <th>Alsacia</th>\n",
       "      <td>5</td>\n",
       "      <td>319</td>\n",
       "      <td>128</td>\n",
       "    </tr>\n",
       "    <tr>\n",
       "      <th>Buses Metropolitana</th>\n",
       "      <td>42</td>\n",
       "      <td>4000</td>\n",
       "      <td>1485</td>\n",
       "    </tr>\n",
       "    <tr>\n",
       "      <th>Buses Vule</th>\n",
       "      <td>74</td>\n",
       "      <td>3888</td>\n",
       "      <td>1480</td>\n",
       "    </tr>\n",
       "    <tr>\n",
       "      <th>Express</th>\n",
       "      <td>45</td>\n",
       "      <td>3290</td>\n",
       "      <td>1204</td>\n",
       "    </tr>\n",
       "    <tr>\n",
       "      <th>Red Bus Urbano</th>\n",
       "      <td>49</td>\n",
       "      <td>1710</td>\n",
       "      <td>673</td>\n",
       "    </tr>\n",
       "    <tr>\n",
       "      <th>STP Santiago</th>\n",
       "      <td>30</td>\n",
       "      <td>1196</td>\n",
       "      <td>393</td>\n",
       "    </tr>\n",
       "    <tr>\n",
       "      <th>Su Bus</th>\n",
       "      <td>40</td>\n",
       "      <td>2055</td>\n",
       "      <td>780</td>\n",
       "    </tr>\n",
       "  </tbody>\n",
       "</table>\n",
       "</div>"
      ],
      "text/plain": [
       "                     # recorridos  N Muestral  N Usuarios\n",
       "carrier                                                  \n",
       "Alsacia                         5         319         128\n",
       "Buses Metropolitana            42        4000        1485\n",
       "Buses Vule                     74        3888        1480\n",
       "Express                        45        3290        1204\n",
       "Red Bus Urbano                 49        1710         673\n",
       "STP Santiago                   30        1196         393\n",
       "Su Bus                         40        2055         780"
      ]
     },
     "execution_count": 132,
     "metadata": {},
     "output_type": "execute_result"
    }
   ],
   "source": [
    "df1 = df.groupby(by='carrier', as_index=True).agg({'route': pd.Series.nunique})\n",
    "\n",
    "df2=df.groupby(['carrier']).size()\n",
    "\n",
    "df3 = df.groupby(by='carrier', as_index=True).agg({'phoneId': pd.Series.nunique})\n",
    "\n",
    "#df2=pd.DataFrame({'N° dias de uso de transporte publico':df2.index, 'N° de usuarios':df2.values})\n",
    "#df2\n",
    "\n",
    "result = pd.concat([df1, df2,df3], axis=1)\n",
    "result.columns = ['# recorridos', 'N Muestral', 'N Usuarios']\n",
    "result\n"
   ]
  },
  {
   "cell_type": "code",
   "execution_count": 42,
   "metadata": {},
   "outputs": [],
   "source": [
    "df1 = df.groupby(by='phoneId', as_index=False).agg({'date': pd.Series.nunique})\n",
    "df2 = df1.groupby(['date']).size()\n",
    "df2=pd.DataFrame({'N° dias de uso de transporte publico':df2.index, 'N° de usuarios':df2.values})"
   ]
  },
  {
   "cell_type": "markdown",
   "metadata": {},
   "source": [
    "No se puede obtener el número de días a la semana que el usuario utilizó transporte público.\n",
    "No se puede obtener el objetivo de actividad del usuario\n",
    "No se puede obtener el uso de vías exclusivas"
   ]
  },
  {
   "cell_type": "code",
   "execution_count": 43,
   "metadata": {},
   "outputs": [
    {
     "data": {
      "text/html": [
       "<div>\n",
       "<style scoped>\n",
       "    .dataframe tbody tr th:only-of-type {\n",
       "        vertical-align: middle;\n",
       "    }\n",
       "\n",
       "    .dataframe tbody tr th {\n",
       "        vertical-align: top;\n",
       "    }\n",
       "\n",
       "    .dataframe thead th {\n",
       "        text-align: right;\n",
       "    }\n",
       "</style>\n",
       "<table border=\"1\" class=\"dataframe\">\n",
       "  <thead>\n",
       "    <tr style=\"text-align: right;\">\n",
       "      <th></th>\n",
       "      <th>5 o más días por semana</th>\n",
       "      <th>Con menor frecuencia</th>\n",
       "    </tr>\n",
       "  </thead>\n",
       "  <tbody>\n",
       "    <tr>\n",
       "      <th>0</th>\n",
       "      <td>13.014852</td>\n",
       "      <td>86.985148</td>\n",
       "    </tr>\n",
       "  </tbody>\n",
       "</table>\n",
       "</div>"
      ],
      "text/plain": [
       "   5 o más días por semana  Con menor frecuencia\n",
       "0                13.014852             86.985148"
      ]
     },
     "execution_count": 43,
     "metadata": {},
     "output_type": "execute_result"
    }
   ],
   "source": [
    "df3=df2[df2['N° dias de uso de transporte publico']>=5]\n",
    "a=df3['N° de usuarios'].sum()\n",
    "df4=df2[df2['N° dias de uso de transporte publico']<5]\n",
    "b=df4['N° de usuarios'].sum()\n",
    "\n",
    "df5 = pd.DataFrame({'5 o más días por semana': [(a/(a+b))*100] , 'Con menor frecuencia': [(b/(a+b))*100]})\n",
    "df5"
   ]
  },
  {
   "cell_type": "code",
   "execution_count": 44,
   "metadata": {},
   "outputs": [],
   "source": [
    "#genera columna de tiempo de espera en minutos\n",
    "df['waitingTimeEstimateMin']=df['waitingTimeEstimate'].apply(lambda x: x/60)"
   ]
  },
  {
   "cell_type": "code",
   "execution_count": 45,
   "metadata": {},
   "outputs": [],
   "source": [
    "#Funcion para graficar barras\n",
    "def graficar_conjunto(data, titles):\n",
    "    \"\"\"\n",
    "    ejemplo\n",
    "    data = [{'etiqueta1': 1, 'etiqueta2': 2}, {'etiqueta3': 3}]\n",
    "    titles = ['titulo1', 'titulo2']\n",
    "    \"\"\"\n",
    "    assert len(data) == len(titles)\n",
    "    fig, axs = plt.subplots(1, len(data), figsize=(16, 4), sharey=True)\n",
    "    color = '#7dc242'\n",
    "\n",
    "    for index, ax in enumerate(axs):\n",
    "        for i, value in enumerate(data[index].values()):\n",
    "            ax.text(i - .1, value + 1, str(value) + ' %', color='black')\n",
    "        ax.bar(data[index].keys(), data[index].values(), color=color)\n",
    "        ax.set_title(titles[index], fontdict={'fontsize': 20})\n",
    "        ax.spines['top'].set_visible(False)\n",
    "        ax.spines['right'].set_visible(False)\n",
    "        ax.spines['bottom'].set_visible(False)\n",
    "\n",
    "        if index > 0:\n",
    "            ax.spines['left'].set_visible(False)\n",
    "            ax.tick_params(axis='y', which='both', left=False)"
   ]
  },
  {
   "cell_type": "code",
   "execution_count": 46,
   "metadata": {},
   "outputs": [],
   "source": [
    "#Datos para graficar tiempo de viaje general\n",
    "df3=df[df['duration(min)']<=29]['duration(min)']\n",
    "a=df3.count()\n",
    "\n",
    "df3=df[(df['duration(min)']>29) & (df['duration(min)']<=59)]['duration(min)']\n",
    "b=df3.count()\n",
    "\n",
    "df3=df[(df['duration(min)']>59)]['duration(min)']\n",
    "c=df3.count()\n",
    "\n",
    "d=a+b+c"
   ]
  },
  {
   "cell_type": "code",
   "execution_count": 47,
   "metadata": {},
   "outputs": [
    {
     "name": "stderr",
     "output_type": "stream",
     "text": [
      "/home/jacke/.local/lib/python3.6/site-packages/ipykernel_launcher.py:3: UserWarning: Boolean Series key will be reindexed to match DataFrame index.\n",
      "  This is separate from the ipykernel package so we can avoid doing imports until\n"
     ]
    }
   ],
   "source": [
    "#Datos para graficar tiempo de espera general\n",
    "df1=df[df['distFirstGPSToBoardingBusStop']<150]\n",
    "df1=df1[df['carrier']=='Buses Vule']\n",
    "df3=df1[(df1['waitingTimeEstimateMin']<=5) & (df1['waitingTimeEstimateMin']>=1)]['duration(min)']\n",
    "e=df3.count()\n",
    "\n",
    "df3=df1[(df1['waitingTimeEstimateMin']<=10) & (df1['waitingTimeEstimateMin']>5) ]['duration(min)']\n",
    "f=df3.count()\n",
    "\n",
    "df3=df1[(df1['waitingTimeEstimateMin']<=15) & (df1['waitingTimeEstimateMin']>10)]['duration(min)']\n",
    "g=df3.count()\n",
    "\n",
    "df3=df1[(df1['waitingTimeEstimateMin']<=20) & (df1['waitingTimeEstimateMin']>15)]['duration(min)']\n",
    "h=df3.count()\n",
    "\n",
    "df3=df1[(df1['waitingTimeEstimateMin']>20)]['duration(min)']\n",
    "i=df3.count()\n",
    "    \n",
    "j=e+f+g+h+i"
   ]
  },
  {
   "cell_type": "code",
   "execution_count": 48,
   "metadata": {},
   "outputs": [
    {
     "data": {
      "image/png": "[encoded data removed]",
      "text/plain": [
       "<Figure size 1152x288 with 2 Axes>"
      ]
     },
     "metadata": {
      "needs_background": "light"
     },
     "output_type": "display_data"
    }
   ],
   "source": [
    "data= [{'Hasta 29 min': round((a/d)*100, 1), 'De 29 a 59 min': round((b/d)*100, 1), 'Más de 59 min': round((c/d)*100,1)}, \n",
    "       {'1 a 5 min': round((e/j)*100, 1), '>5 a 10 min': round((f/j)*100,1), '>10 a 15 min': round((g/j)*100,1), '>15 a 20 min': round((h/j)*100,1), 'Más de 20 min': round((i/j)*100,1)} ]\n",
    "titles= ['Tiempo de viaje', 'Tiempo de espera']\n",
    "graficar_conjunto(data, titles)"
   ]
  },
  {
   "cell_type": "markdown",
   "metadata": {},
   "source": [
    "# Gráficos por meses/operadores"
   ]
  },
  {
   "cell_type": "code",
   "execution_count": 49,
   "metadata": {},
   "outputs": [],
   "source": [
    "Meses=df.month.unique()"
   ]
  },
  {
   "cell_type": "code",
   "execution_count": 50,
   "metadata": {},
   "outputs": [],
   "source": [
    "from operator import add\n",
    "\n",
    "def make_stacked_bars(legend, data, names, colors, sample_size=None, avg_waiting_time=None):\n",
    "    \"\"\"\n",
    "    example of inputs:\n",
    "        legend = ['1 a 5 min', '6 a 10 min', '11 a 15 min', '16 a 20 min', '21 o más']\n",
    "        data = [[10, 10], [20, 20], [10, 10], [20, 20], [40, 40]]\n",
    "        names = [\"ene-15\", \"feb-15\"]\n",
    "        sample_size = [5000, 456]\n",
    "        avg_waiting_time = [14.4, 35]\n",
    "    \"\"\"\n",
    "    # sanity checks\n",
    "    assert len(legend) == len(data)\n",
    "    for row in data:\n",
    "        assert len(row) == len(names)\n",
    "    if sample_size is not None:\n",
    "        assert len(sample_size) == len(names)\n",
    "    if avg_waiting_time is not None:\n",
    "        assert len(avg_waiting_time) == len(names)\n",
    "\n",
    "    plt.figure(figsize=(10, 8))\n",
    "    ax = plt.subplot(111)\n",
    "    N = len(names)\n",
    "    ind = range(N)    # the x locations for the groups\n",
    "    width = 0.35       # the width of the bars: can also be len(x) sequence\n",
    "    #colors = ['#539e11', '#7DC242', '#f49f5a', 'yellow', 'red']\n",
    "\n",
    "    rectangles = []\n",
    "    previous_data = [0 for _ in range(len(names))]\n",
    "    for index, row in enumerate(data):\n",
    "        params = {\n",
    "            'color': colors[index]\n",
    "        }\n",
    "        if index != 0:\n",
    "            previous_data = list(map(add, data[index - 1], previous_data)) \n",
    "            params['bottom'] = previous_data\n",
    "        \n",
    "        chart = ax.bar(ind, row, width, **params)\n",
    "        rectangles.append(chart[0])\n",
    "        \n",
    "        # values\n",
    "        for column, value in enumerate(row):\n",
    "            ax.text(ind[column], previous_data[column] + row[column] / 2, str(value) + ' %', color='black', \n",
    "                    horizontalalignment='center', verticalalignment='center')\n",
    "            # put text once\n",
    "            if index == 0:\n",
    "                if sample_size is not None:\n",
    "                    ax.text(ind[column], -20, \"{:,}\".format(sample_size[column]), horizontalalignment='center')\n",
    "                if avg_waiting_time is not None:\n",
    "                    ax.text(ind[column], 110, \"{:,}\".format(avg_waiting_time[column]), horizontalalignment='center')\n",
    "\n",
    "    if sample_size is not None:\n",
    "        ax.text(-0.7, -20, 'N:')    \n",
    "    if avg_waiting_time is not None:\n",
    "        ax.text(-0.8, 111, 'Promedio:', verticalalignment ='center')\n",
    "    \n",
    "    ax.legend(rectangles, legend, loc='center', ncol = len(legend), bbox_to_anchor=(0.5, 1.15))\n",
    "    ax.spines['top'].set_visible(False)\n",
    "    ax.spines['left'].set_visible(False)\n",
    "    ax.spines['right'].set_visible(False)\n",
    "    ax.axes.get_yaxis().set_visible(False)\n",
    "    \n",
    "    #plt.ylabel('Porcentaje')\n",
    "    #plt.title('Tiempo de espera', loc='left')\n",
    "    plt.xticks(ind, names)\n",
    "    \n",
    "    plt.show()"
   ]
  },
  {
   "cell_type": "code",
   "execution_count": 51,
   "metadata": {},
   "outputs": [],
   "source": [
    "df['waitingTimeEstimateMin']=df[['waitingTimeEstimate']].apply(lambda x: x[0]/60, axis=1)"
   ]
  },
  {
   "cell_type": "code",
   "execution_count": 52,
   "metadata": {},
   "outputs": [
    {
     "data": {
      "image/png": "[encoded data removed]",
      "text/plain": [
       "<Figure size 720x576 with 1 Axes>"
      ]
     },
     "metadata": {
      "needs_background": "light"
     },
     "output_type": "display_data"
    }
   ],
   "source": [
    "#Datos para tiempo de espera por mes\n",
    "esperas=[]\n",
    "df1=df[df['distFirstGPSToBoardingBusStop']<150]\n",
    "df=df[df['carrier']=='Red Bus Urbano']\n",
    "leyenda = ['1 a 5 mins', '>5 a 10 min', '>10 a 15 min', 'Más de 15 min']\n",
    "observaciones=[]\n",
    "data = [[0 for _ in range(len(Meses))] for _ in range(len(leyenda))]\n",
    "criteria = [(5, 1),(10, 5),(15, 10),(float('inf'), 15)]\n",
    "\n",
    "for month_index, i in enumerate(Meses):\n",
    "    percentages = []\n",
    "    for max_value, min_value in criteria:\n",
    "        df3=df1[(df1['waitingTimeEstimateMin']<=max_value) & (df1['waitingTimeEstimateMin']>=min_value) & (df1['month']==i)]['duration(min)']\n",
    "        value=df3.count()\n",
    "        percentages.append(value)\n",
    "    \n",
    "    for index, percentage in enumerate(percentages):\n",
    "        data[index][month_index] = round((percentage/sum(percentages)) * 100, 1)\n",
    "    \n",
    "    observacion = df1[(df1['month']==i)]['duration(min)'].count()\n",
    "    observaciones.append((round(observacion, 1)))\n",
    "    promedio=df1.groupby('month').agg({'waitingTimeEstimateMin':['mean']})\n",
    "    #promedio=promedio.tolist()\n",
    "    \n",
    "promedio_array = promedio['waitingTimeEstimateMin'].get_values()\n",
    "promedio_list = list(map(lambda x: round(x, 1), promedio_array[:,0].tolist()))\n",
    "colors = ['#539e11', '#7DC242', '#f49f5a', 'yellow', 'red']\n",
    "\n",
    "make_stacked_bars(leyenda, data, Meses, colors, sample_size=observaciones, avg_waiting_time=promedio_list)"
   ]
  },
  {
   "cell_type": "code",
   "execution_count": 53,
   "metadata": {},
   "outputs": [
    {
     "ename": "KeyError",
     "evalue": "'evaluation_mod'",
     "output_type": "error",
     "traceback": [
      "\u001b[0;31m---------------------------------------------------------------------------\u001b[0m",
      "\u001b[0;31mKeyError\u001b[0m                                  Traceback (most recent call last)",
      "\u001b[0;32m~/.local/lib/python3.6/site-packages/pandas/core/indexes/base.py\u001b[0m in \u001b[0;36mget_loc\u001b[0;34m(self, key, method, tolerance)\u001b[0m\n\u001b[1;32m   3077\u001b[0m             \u001b[0;32mtry\u001b[0m\u001b[0;34m:\u001b[0m\u001b[0;34m\u001b[0m\u001b[0;34m\u001b[0m\u001b[0m\n\u001b[0;32m-> 3078\u001b[0;31m                 \u001b[0;32mreturn\u001b[0m \u001b[0mself\u001b[0m\u001b[0;34m.\u001b[0m\u001b[0m_engine\u001b[0m\u001b[0;34m.\u001b[0m\u001b[0mget_loc\u001b[0m\u001b[0;34m(\u001b[0m\u001b[0mkey\u001b[0m\u001b[0;34m)\u001b[0m\u001b[0;34m\u001b[0m\u001b[0;34m\u001b[0m\u001b[0m\n\u001b[0m\u001b[1;32m   3079\u001b[0m             \u001b[0;32mexcept\u001b[0m \u001b[0mKeyError\u001b[0m\u001b[0;34m:\u001b[0m\u001b[0;34m\u001b[0m\u001b[0;34m\u001b[0m\u001b[0m\n",
      "\u001b[0;32mpandas/_libs/index.pyx\u001b[0m in \u001b[0;36mpandas._libs.index.IndexEngine.get_loc\u001b[0;34m()\u001b[0m\n",
      "\u001b[0;32mpandas/_libs/index.pyx\u001b[0m in \u001b[0;36mpandas._libs.index.IndexEngine.get_loc\u001b[0;34m()\u001b[0m\n",
      "\u001b[0;32mpandas/_libs/hashtable_class_helper.pxi\u001b[0m in \u001b[0;36mpandas._libs.hashtable.PyObjectHashTable.get_item\u001b[0;34m()\u001b[0m\n",
      "\u001b[0;32mpandas/_libs/hashtable_class_helper.pxi\u001b[0m in \u001b[0;36mpandas._libs.hashtable.PyObjectHashTable.get_item\u001b[0;34m()\u001b[0m\n",
      "\u001b[0;31mKeyError\u001b[0m: 'evaluation_mod'",
      "\nDuring handling of the above exception, another exception occurred:\n",
      "\u001b[0;31mKeyError\u001b[0m                                  Traceback (most recent call last)",
      "\u001b[0;32m<ipython-input-53-82747f1441ca>\u001b[0m in \u001b[0;36m<module>\u001b[0;34m\u001b[0m\n\u001b[1;32m      6\u001b[0m \u001b[0mdata\u001b[0m \u001b[0;34m=\u001b[0m \u001b[0;34m[\u001b[0m\u001b[0;34m[\u001b[0m\u001b[0;36m0\u001b[0m \u001b[0;32mfor\u001b[0m \u001b[0m_\u001b[0m \u001b[0;32min\u001b[0m \u001b[0mrange\u001b[0m\u001b[0;34m(\u001b[0m\u001b[0mlen\u001b[0m\u001b[0;34m(\u001b[0m\u001b[0mMeses\u001b[0m\u001b[0;34m)\u001b[0m\u001b[0;34m)\u001b[0m\u001b[0;34m]\u001b[0m \u001b[0;32mfor\u001b[0m \u001b[0m_\u001b[0m \u001b[0;32min\u001b[0m \u001b[0mrange\u001b[0m\u001b[0;34m(\u001b[0m\u001b[0mlen\u001b[0m\u001b[0;34m(\u001b[0m\u001b[0mleyenda\u001b[0m\u001b[0;34m)\u001b[0m\u001b[0;34m)\u001b[0m\u001b[0;34m]\u001b[0m\u001b[0;34m\u001b[0m\u001b[0;34m\u001b[0m\u001b[0m\n\u001b[1;32m      7\u001b[0m \u001b[0mcriteria\u001b[0m \u001b[0;34m=\u001b[0m \u001b[0;34m[\u001b[0m\u001b[0;34m(\u001b[0m\u001b[0;36m10\u001b[0m\u001b[0;34m,\u001b[0m \u001b[0;36m0\u001b[0m\u001b[0;34m)\u001b[0m\u001b[0;34m,\u001b[0m\u001b[0;34m(\u001b[0m\u001b[0;36m29\u001b[0m\u001b[0;34m,\u001b[0m \u001b[0;36m10\u001b[0m\u001b[0;34m)\u001b[0m\u001b[0;34m,\u001b[0m\u001b[0;34m(\u001b[0m\u001b[0;36m44\u001b[0m\u001b[0;34m,\u001b[0m \u001b[0;36m29\u001b[0m\u001b[0;34m)\u001b[0m\u001b[0;34m,\u001b[0m\u001b[0;34m(\u001b[0m\u001b[0mfloat\u001b[0m\u001b[0;34m(\u001b[0m\u001b[0;34m'inf'\u001b[0m\u001b[0;34m)\u001b[0m\u001b[0;34m,\u001b[0m \u001b[0;36m44\u001b[0m\u001b[0;34m)\u001b[0m\u001b[0;34m]\u001b[0m\u001b[0;34m\u001b[0m\u001b[0;34m\u001b[0m\u001b[0m\n\u001b[0;32m----> 8\u001b[0;31m \u001b[0mdf\u001b[0m\u001b[0;34m=\u001b[0m\u001b[0mdf\u001b[0m\u001b[0;34m[\u001b[0m\u001b[0;34m(\u001b[0m\u001b[0mdf\u001b[0m\u001b[0;34m[\u001b[0m\u001b[0;34m'carrier'\u001b[0m\u001b[0;34m]\u001b[0m\u001b[0;34m==\u001b[0m\u001b[0;34m'Red Bus Urbano'\u001b[0m\u001b[0;34m)\u001b[0m \u001b[0;34m&\u001b[0m \u001b[0;34m(\u001b[0m\u001b[0mdf\u001b[0m\u001b[0;34m[\u001b[0m\u001b[0;34m'evaluation_mod'\u001b[0m\u001b[0;34m]\u001b[0m\u001b[0;34m>\u001b[0m\u001b[0;36m0\u001b[0m\u001b[0;34m)\u001b[0m\u001b[0;34m]\u001b[0m\u001b[0;34m\u001b[0m\u001b[0;34m\u001b[0m\u001b[0m\n\u001b[0m\u001b[1;32m      9\u001b[0m \u001b[0;32mfor\u001b[0m \u001b[0mmonth_index\u001b[0m\u001b[0;34m,\u001b[0m \u001b[0mi\u001b[0m \u001b[0;32min\u001b[0m \u001b[0menumerate\u001b[0m\u001b[0;34m(\u001b[0m\u001b[0mMeses\u001b[0m\u001b[0;34m)\u001b[0m\u001b[0;34m:\u001b[0m\u001b[0;34m\u001b[0m\u001b[0;34m\u001b[0m\u001b[0m\n\u001b[1;32m     10\u001b[0m     \u001b[0mpercentages\u001b[0m \u001b[0;34m=\u001b[0m \u001b[0;34m[\u001b[0m\u001b[0;34m]\u001b[0m\u001b[0;34m\u001b[0m\u001b[0;34m\u001b[0m\u001b[0m\n",
      "\u001b[0;32m~/.local/lib/python3.6/site-packages/pandas/core/frame.py\u001b[0m in \u001b[0;36m__getitem__\u001b[0;34m(self, key)\u001b[0m\n\u001b[1;32m   2686\u001b[0m             \u001b[0;32mreturn\u001b[0m \u001b[0mself\u001b[0m\u001b[0;34m.\u001b[0m\u001b[0m_getitem_multilevel\u001b[0m\u001b[0;34m(\u001b[0m\u001b[0mkey\u001b[0m\u001b[0;34m)\u001b[0m\u001b[0;34m\u001b[0m\u001b[0;34m\u001b[0m\u001b[0m\n\u001b[1;32m   2687\u001b[0m         \u001b[0;32melse\u001b[0m\u001b[0;34m:\u001b[0m\u001b[0;34m\u001b[0m\u001b[0;34m\u001b[0m\u001b[0m\n\u001b[0;32m-> 2688\u001b[0;31m             \u001b[0;32mreturn\u001b[0m \u001b[0mself\u001b[0m\u001b[0;34m.\u001b[0m\u001b[0m_getitem_column\u001b[0m\u001b[0;34m(\u001b[0m\u001b[0mkey\u001b[0m\u001b[0;34m)\u001b[0m\u001b[0;34m\u001b[0m\u001b[0;34m\u001b[0m\u001b[0m\n\u001b[0m\u001b[1;32m   2689\u001b[0m \u001b[0;34m\u001b[0m\u001b[0m\n\u001b[1;32m   2690\u001b[0m     \u001b[0;32mdef\u001b[0m \u001b[0m_getitem_column\u001b[0m\u001b[0;34m(\u001b[0m\u001b[0mself\u001b[0m\u001b[0;34m,\u001b[0m \u001b[0mkey\u001b[0m\u001b[0;34m)\u001b[0m\u001b[0;34m:\u001b[0m\u001b[0;34m\u001b[0m\u001b[0;34m\u001b[0m\u001b[0m\n",
      "\u001b[0;32m~/.local/lib/python3.6/site-packages/pandas/core/frame.py\u001b[0m in \u001b[0;36m_getitem_column\u001b[0;34m(self, key)\u001b[0m\n\u001b[1;32m   2693\u001b[0m         \u001b[0;31m# get column\u001b[0m\u001b[0;34m\u001b[0m\u001b[0;34m\u001b[0m\u001b[0;34m\u001b[0m\u001b[0m\n\u001b[1;32m   2694\u001b[0m         \u001b[0;32mif\u001b[0m \u001b[0mself\u001b[0m\u001b[0;34m.\u001b[0m\u001b[0mcolumns\u001b[0m\u001b[0;34m.\u001b[0m\u001b[0mis_unique\u001b[0m\u001b[0;34m:\u001b[0m\u001b[0;34m\u001b[0m\u001b[0;34m\u001b[0m\u001b[0m\n\u001b[0;32m-> 2695\u001b[0;31m             \u001b[0;32mreturn\u001b[0m \u001b[0mself\u001b[0m\u001b[0;34m.\u001b[0m\u001b[0m_get_item_cache\u001b[0m\u001b[0;34m(\u001b[0m\u001b[0mkey\u001b[0m\u001b[0;34m)\u001b[0m\u001b[0;34m\u001b[0m\u001b[0;34m\u001b[0m\u001b[0m\n\u001b[0m\u001b[1;32m   2696\u001b[0m \u001b[0;34m\u001b[0m\u001b[0m\n\u001b[1;32m   2697\u001b[0m         \u001b[0;31m# duplicate columns & possible reduce dimensionality\u001b[0m\u001b[0;34m\u001b[0m\u001b[0;34m\u001b[0m\u001b[0;34m\u001b[0m\u001b[0m\n",
      "\u001b[0;32m~/.local/lib/python3.6/site-packages/pandas/core/generic.py\u001b[0m in \u001b[0;36m_get_item_cache\u001b[0;34m(self, item)\u001b[0m\n\u001b[1;32m   2487\u001b[0m         \u001b[0mres\u001b[0m \u001b[0;34m=\u001b[0m \u001b[0mcache\u001b[0m\u001b[0;34m.\u001b[0m\u001b[0mget\u001b[0m\u001b[0;34m(\u001b[0m\u001b[0mitem\u001b[0m\u001b[0;34m)\u001b[0m\u001b[0;34m\u001b[0m\u001b[0;34m\u001b[0m\u001b[0m\n\u001b[1;32m   2488\u001b[0m         \u001b[0;32mif\u001b[0m \u001b[0mres\u001b[0m \u001b[0;32mis\u001b[0m \u001b[0;32mNone\u001b[0m\u001b[0;34m:\u001b[0m\u001b[0;34m\u001b[0m\u001b[0;34m\u001b[0m\u001b[0m\n\u001b[0;32m-> 2489\u001b[0;31m             \u001b[0mvalues\u001b[0m \u001b[0;34m=\u001b[0m \u001b[0mself\u001b[0m\u001b[0;34m.\u001b[0m\u001b[0m_data\u001b[0m\u001b[0;34m.\u001b[0m\u001b[0mget\u001b[0m\u001b[0;34m(\u001b[0m\u001b[0mitem\u001b[0m\u001b[0;34m)\u001b[0m\u001b[0;34m\u001b[0m\u001b[0;34m\u001b[0m\u001b[0m\n\u001b[0m\u001b[1;32m   2490\u001b[0m             \u001b[0mres\u001b[0m \u001b[0;34m=\u001b[0m \u001b[0mself\u001b[0m\u001b[0;34m.\u001b[0m\u001b[0m_box_item_values\u001b[0m\u001b[0;34m(\u001b[0m\u001b[0mitem\u001b[0m\u001b[0;34m,\u001b[0m \u001b[0mvalues\u001b[0m\u001b[0;34m)\u001b[0m\u001b[0;34m\u001b[0m\u001b[0;34m\u001b[0m\u001b[0m\n\u001b[1;32m   2491\u001b[0m             \u001b[0mcache\u001b[0m\u001b[0;34m[\u001b[0m\u001b[0mitem\u001b[0m\u001b[0;34m]\u001b[0m \u001b[0;34m=\u001b[0m \u001b[0mres\u001b[0m\u001b[0;34m\u001b[0m\u001b[0;34m\u001b[0m\u001b[0m\n",
      "\u001b[0;32m~/.local/lib/python3.6/site-packages/pandas/core/internals.py\u001b[0m in \u001b[0;36mget\u001b[0;34m(self, item, fastpath)\u001b[0m\n\u001b[1;32m   4113\u001b[0m \u001b[0;34m\u001b[0m\u001b[0m\n\u001b[1;32m   4114\u001b[0m             \u001b[0;32mif\u001b[0m \u001b[0;32mnot\u001b[0m \u001b[0misna\u001b[0m\u001b[0;34m(\u001b[0m\u001b[0mitem\u001b[0m\u001b[0;34m)\u001b[0m\u001b[0;34m:\u001b[0m\u001b[0;34m\u001b[0m\u001b[0;34m\u001b[0m\u001b[0m\n\u001b[0;32m-> 4115\u001b[0;31m                 \u001b[0mloc\u001b[0m \u001b[0;34m=\u001b[0m \u001b[0mself\u001b[0m\u001b[0;34m.\u001b[0m\u001b[0mitems\u001b[0m\u001b[0;34m.\u001b[0m\u001b[0mget_loc\u001b[0m\u001b[0;34m(\u001b[0m\u001b[0mitem\u001b[0m\u001b[0;34m)\u001b[0m\u001b[0;34m\u001b[0m\u001b[0;34m\u001b[0m\u001b[0m\n\u001b[0m\u001b[1;32m   4116\u001b[0m             \u001b[0;32melse\u001b[0m\u001b[0;34m:\u001b[0m\u001b[0;34m\u001b[0m\u001b[0;34m\u001b[0m\u001b[0m\n\u001b[1;32m   4117\u001b[0m                 \u001b[0mindexer\u001b[0m \u001b[0;34m=\u001b[0m \u001b[0mnp\u001b[0m\u001b[0;34m.\u001b[0m\u001b[0marange\u001b[0m\u001b[0;34m(\u001b[0m\u001b[0mlen\u001b[0m\u001b[0;34m(\u001b[0m\u001b[0mself\u001b[0m\u001b[0;34m.\u001b[0m\u001b[0mitems\u001b[0m\u001b[0;34m)\u001b[0m\u001b[0;34m)\u001b[0m\u001b[0;34m[\u001b[0m\u001b[0misna\u001b[0m\u001b[0;34m(\u001b[0m\u001b[0mself\u001b[0m\u001b[0;34m.\u001b[0m\u001b[0mitems\u001b[0m\u001b[0;34m)\u001b[0m\u001b[0;34m]\u001b[0m\u001b[0;34m\u001b[0m\u001b[0;34m\u001b[0m\u001b[0m\n",
      "\u001b[0;32m~/.local/lib/python3.6/site-packages/pandas/core/indexes/base.py\u001b[0m in \u001b[0;36mget_loc\u001b[0;34m(self, key, method, tolerance)\u001b[0m\n\u001b[1;32m   3078\u001b[0m                 \u001b[0;32mreturn\u001b[0m \u001b[0mself\u001b[0m\u001b[0;34m.\u001b[0m\u001b[0m_engine\u001b[0m\u001b[0;34m.\u001b[0m\u001b[0mget_loc\u001b[0m\u001b[0;34m(\u001b[0m\u001b[0mkey\u001b[0m\u001b[0;34m)\u001b[0m\u001b[0;34m\u001b[0m\u001b[0;34m\u001b[0m\u001b[0m\n\u001b[1;32m   3079\u001b[0m             \u001b[0;32mexcept\u001b[0m \u001b[0mKeyError\u001b[0m\u001b[0;34m:\u001b[0m\u001b[0;34m\u001b[0m\u001b[0;34m\u001b[0m\u001b[0m\n\u001b[0;32m-> 3080\u001b[0;31m                 \u001b[0;32mreturn\u001b[0m \u001b[0mself\u001b[0m\u001b[0;34m.\u001b[0m\u001b[0m_engine\u001b[0m\u001b[0;34m.\u001b[0m\u001b[0mget_loc\u001b[0m\u001b[0;34m(\u001b[0m\u001b[0mself\u001b[0m\u001b[0;34m.\u001b[0m\u001b[0m_maybe_cast_indexer\u001b[0m\u001b[0;34m(\u001b[0m\u001b[0mkey\u001b[0m\u001b[0;34m)\u001b[0m\u001b[0;34m)\u001b[0m\u001b[0;34m\u001b[0m\u001b[0;34m\u001b[0m\u001b[0m\n\u001b[0m\u001b[1;32m   3081\u001b[0m \u001b[0;34m\u001b[0m\u001b[0m\n\u001b[1;32m   3082\u001b[0m         \u001b[0mindexer\u001b[0m \u001b[0;34m=\u001b[0m \u001b[0mself\u001b[0m\u001b[0;34m.\u001b[0m\u001b[0mget_indexer\u001b[0m\u001b[0;34m(\u001b[0m\u001b[0;34m[\u001b[0m\u001b[0mkey\u001b[0m\u001b[0;34m]\u001b[0m\u001b[0;34m,\u001b[0m \u001b[0mmethod\u001b[0m\u001b[0;34m=\u001b[0m\u001b[0mmethod\u001b[0m\u001b[0;34m,\u001b[0m \u001b[0mtolerance\u001b[0m\u001b[0;34m=\u001b[0m\u001b[0mtolerance\u001b[0m\u001b[0;34m)\u001b[0m\u001b[0;34m\u001b[0m\u001b[0;34m\u001b[0m\u001b[0m\n",
      "\u001b[0;32mpandas/_libs/index.pyx\u001b[0m in \u001b[0;36mpandas._libs.index.IndexEngine.get_loc\u001b[0;34m()\u001b[0m\n",
      "\u001b[0;32mpandas/_libs/index.pyx\u001b[0m in \u001b[0;36mpandas._libs.index.IndexEngine.get_loc\u001b[0;34m()\u001b[0m\n",
      "\u001b[0;32mpandas/_libs/hashtable_class_helper.pxi\u001b[0m in \u001b[0;36mpandas._libs.hashtable.PyObjectHashTable.get_item\u001b[0;34m()\u001b[0m\n",
      "\u001b[0;32mpandas/_libs/hashtable_class_helper.pxi\u001b[0m in \u001b[0;36mpandas._libs.hashtable.PyObjectHashTable.get_item\u001b[0;34m()\u001b[0m\n",
      "\u001b[0;31mKeyError\u001b[0m: 'evaluation_mod'"
     ]
    }
   ],
   "source": [
    "#Datos para tiempo de viaje por mes\n",
    "Meses=[8,9,10,11,12,1,2]\n",
    "tpo_viajes=[]\n",
    "observaciones=[]\n",
    "leyenda = ['10 min o menos', '>10 a 29 min', '>29 a 44 min', 'Más de 44 min']\n",
    "data = [[0 for _ in range(len(Meses))] for _ in range(len(leyenda))]\n",
    "criteria = [(10, 0),(29, 10),(44, 29),(float('inf'), 44)]\n",
    "df=df[(df['carrier']=='Red Bus Urbano') & (df['evaluation_mod']>0)]\n",
    "for month_index, i in enumerate(Meses):\n",
    "    percentages = []\n",
    "    for max_value, min_value in criteria:\n",
    "        df3=df[(df['duration(min)']<=max_value) & (df['duration(min)']>=min_value) & (df['month']==i)]['duration(min)']\n",
    "        value=df3.count()\n",
    "        percentages.append(value)\n",
    "    \n",
    "    for index, percentage in enumerate(percentages):\n",
    "        data[index][month_index] = round((percentage/sum(percentages)) * 100, 1)\n",
    "        \n",
    "    observacion = df[(df['month']==i)]['duration(min)'].count()\n",
    "    observaciones.append((round(observacion, 1)))\n",
    "    promedio=df.groupby('month').agg({'duration(min)':['mean']})\n",
    "\n",
    "promedio_array = promedio['duration(min)'].get_values()\n",
    "promedio_list = list(map(lambda x: round(x, 1), promedio_array[:,0].tolist()))\n",
    "colors = ['#539e11', '#7DC242', '#f49f5a', 'yellow', 'red']\n",
    "names = [\"08-2018\", \"09-2018\", \"10-2018\", \"11-2018\", \"12-2018\", \"01-2019\", \"02-2019\"]\n",
    "make_stacked_bars(leyenda, data, names, colors, sample_size=observaciones, avg_waiting_time= promedio_list)"
   ]
  },
  {
   "cell_type": "code",
   "execution_count": 54,
   "metadata": {},
   "outputs": [
    {
     "data": {
      "text/plain": [
       "[[0, 0, 0, 0, 0, 0, 0],\n",
       " [0, 0, 0, 0, 0, 0, 0],\n",
       " [0, 0, 0, 0, 0, 0, 0],\n",
       " [0, 0, 0, 0, 0, 0, 0]]"
      ]
     },
     "execution_count": 54,
     "metadata": {},
     "output_type": "execute_result"
    }
   ],
   "source": [
    "data"
   ]
  },
  {
   "cell_type": "code",
   "execution_count": 55,
   "metadata": {},
   "outputs": [
    {
     "data": {
      "text/plain": [
       "[1, 2, 8, 9, 10, 11, 12]"
      ]
     },
     "execution_count": 55,
     "metadata": {},
     "output_type": "execute_result"
    }
   ],
   "source": [
    "Meses.sort()\n",
    "Meses"
   ]
  },
  {
   "cell_type": "code",
   "execution_count": 76,
   "metadata": {},
   "outputs": [
    {
     "data": {
      "image/png": "[encoded data removed]",
      "text/plain": [
       "<Figure size 720x576 with 1 Axes>"
      ]
     },
     "metadata": {
      "needs_background": "light"
     },
     "output_type": "display_data"
    }
   ],
   "source": [
    "#Datos para evaluaciones por mes\n",
    "\n",
    "Mes1=3\n",
    "Mes2=4\n",
    "Mes3=5\n",
    "\n",
    "Meses=[Mes1, Mes2, Mes3]\n",
    "\n",
    "evaluaciones=[]\n",
    "observaciones=[]\n",
    "leyenda = ['Nota 1', 'Nota 4', 'Nota 7']\n",
    "data = [[0 for _ in range(len(Meses))] for _ in range(len(leyenda))]\n",
    "criteria = [1,4,7]\n",
    "\n",
    "for month_index, i in enumerate(Meses):\n",
    "    percentages = []\n",
    "    for max_value in criteria:\n",
    "        df3=df[(df['evaluation']==max_value) & (df['month']==i) & (df['evaluation']>0)]['duration(min)']\n",
    "        value=df3.count()\n",
    "        percentages.append(value)\n",
    "    \n",
    "    for index, percentage in enumerate(percentages):\n",
    "        data[index][month_index] = round((percentage/sum(percentages)) * 100, 1)\n",
    "        \n",
    "    observacion = df[(df['month']==i)& (df['evaluation']>0)]['duration(min)'].count()\n",
    "    observaciones.append((round(observacion, 1)))\n",
    "    promedio=df[df['evaluation']>0].groupby('month').agg({'evaluation':['mean']})\n",
    "\n",
    "promedio_array = promedio['evaluation'].get_values()\n",
    "promedio_list = list(map(lambda x: round(x, 1), promedio_array[:,0].tolist()))\n",
    "colors = ['red', '#7DC242', '#539e11']\n",
    "\n",
    "names = [\"03-2019\", \"04-2019\", \"05-2019\"]\n",
    "make_stacked_bars(leyenda, data, names, colors, sample_size=observaciones, avg_waiting_time=promedio_list)\n"
   ]
  },
  {
   "cell_type": "code",
   "execution_count": 133,
   "metadata": {},
   "outputs": [],
   "source": [
    "df['evaluation_mod']=df[['evaluation']].apply(lambda x: 2 if x[0]<=3.0 else (4 if x[0]==4.0 else (6 if x[0]>=5.0 else 0 )), axis=1)"
   ]
  },
  {
   "cell_type": "code",
   "execution_count": 29,
   "metadata": {},
   "outputs": [],
   "source": [
    "df_gral=df"
   ]
  },
  {
   "cell_type": "code",
   "execution_count": 30,
   "metadata": {},
   "outputs": [
    {
     "data": {
      "text/plain": [
       "(3666, 34)"
      ]
     },
     "execution_count": 30,
     "metadata": {},
     "output_type": "execute_result"
    }
   ],
   "source": [
    "df_gral.shape"
   ]
  },
  {
   "cell_type": "code",
   "execution_count": 156,
   "metadata": {},
   "outputs": [],
   "source": [
    "df=df_gral[df_gral['route']=='103']"
   ]
  },
  {
   "cell_type": "code",
   "execution_count": 29,
   "metadata": {},
   "outputs": [],
   "source": [
    "Meses=[8,9,10,11,12,1,2]"
   ]
  },
  {
   "cell_type": "code",
   "execution_count": 136,
   "metadata": {},
   "outputs": [
    {
     "data": {
      "image/png": "[encoded data removed]",
      "text/plain": [
       "<Figure size 720x576 with 1 Axes>"
      ]
     },
     "metadata": {
      "needs_background": "light"
     },
     "output_type": "display_data"
    }
   ],
   "source": [
    "#Datos para evaluaciones por mes con escala modificada y con encuesta \n",
    "#Meses=[Mes1, Mes2, Mes3]\n",
    "evaluaciones=[]\n",
    "observaciones=[]\n",
    "promedio_list=[]\n",
    "leyenda = ['Nota 1-3', 'Nota 4', 'Nota 5-7']\n",
    "data = [[0 for _ in range(len(Meses))] for _ in range(len(leyenda))]\n",
    "criteria = [2,4,6]\n",
    "\n",
    "for month_index, i in enumerate(Meses):\n",
    "    percentages = []\n",
    "    for max_value in criteria:\n",
    "        df3=df[(df['evaluation_mod']==max_value) & (df['month']==i) & (df['evaluation_mod']>0)]['duration(min)']\n",
    "        value=df3.count()\n",
    "        percentages.append(value)\n",
    "    \n",
    "    for index, percentage in enumerate(percentages):\n",
    "        data[index][month_index] = round((percentage/sum(percentages)) * 100, 1)\n",
    "        \n",
    "    observacion = df[(df['month']==i)& (df['evaluation_mod']>0)]['duration(min)'].count()\n",
    "    observaciones.append((round(observacion, 1)))\n",
    "    promedio=df[(df['evaluation_mod']>0) & (df['month']==i)]['evaluation_mod']\n",
    "    #promedio=promedio[promedio['month']==i].tolist()\n",
    "    promedio = round(sum(promedio)/len(promedio),1)\n",
    "    promedio_list.append(promedio)\n",
    "\n",
    "#promedio_array = promedio['evaluation_mod'].get_values()\n",
    "#promedio_list = list(map(lambda x: round(x, 1), promedio_array[:,0].tolist()))\n",
    "colors = ['red', '#7DC242', '#539e11']\n",
    "\n",
    "#inicio borrar para sacar la encuesta\n",
    "#data[2][3]=70.1\n",
    "#data[1][3]=18.3\n",
    "#data[0][3]=11.6\n",
    "\n",
    "#observaciones.append((5200))\n",
    "#promedio_list.append(4.9)\n",
    "\n",
    "#fin borrar para sacar la encuesta\n",
    "names = [\"03-2018\", \"04-2018\", \"05-2018\"]\n",
    "make_stacked_bars(leyenda, data, names, colors, sample_size=observaciones, avg_waiting_time=promedio_list)"
   ]
  },
  {
   "cell_type": "markdown",
   "metadata": {},
   "source": [
    "# Mejores 5 servicios evaluados por los usuarios"
   ]
  },
  {
   "cell_type": "code",
   "execution_count": 79,
   "metadata": {},
   "outputs": [],
   "source": [
    "from collections import defaultdict\n",
    "df=df_gral[(df_gral['evaluation_mod']>0)&((df_gral['month']==2)|(df_gral['month']==1))]\n",
    "a = defaultdict(list)\n",
    "b = defaultdict(list)\n",
    "for idx, row in df.iterrows():\n",
    "    servicio=row['route']\n",
    "    evaluacion=row['evaluation_mod']\n",
    "    a[servicio].append(evaluacion)\n",
    "    \n",
    "for llave in a:\n",
    "    b[llave]=[sum(a[llave])/len(a[llave]), len(a[llave])]"
   ]
  },
  {
   "cell_type": "code",
   "execution_count": 32,
   "metadata": {},
   "outputs": [
    {
     "data": {
      "text/plain": [
       "[('F19', [6.0, 22]),\n",
       " ('J16', [6.0, 19]),\n",
       " ('H02', [6.0, 18]),\n",
       " ('E08', [6.0, 13]),\n",
       " ('B01', [6.0, 12]),\n",
       " ('H05', [6.0, 11]),\n",
       " ('F16', [6.0, 7]),\n",
       " ('I22', [6.0, 6]),\n",
       " ('G02', [6.0, 6]),\n",
       " ('F15', [6.0, 6]),\n",
       " ('B24', [6.0, 5]),\n",
       " ('I17', [6.0, 5]),\n",
       " ('F26', [6.0, 4]),\n",
       " ('G12', [6.0, 3]),\n",
       " ('D01', [6.0, 2]),\n",
       " ('346N', [6.0, 1]),\n",
       " ('I08N', [6.0, 1]),\n",
       " ('109N', [6.0, 1]),\n",
       " ('C17', [6.0, 1]),\n",
       " ('D20', [6.0, 1]),\n",
       " ('B15', [6.0, 1]),\n",
       " ('I20', [5.933333333333334, 30]),\n",
       " ('H03', [5.913043478260869, 23]),\n",
       " ('H12', [5.913043478260869, 23]),\n",
       " ('121', [5.9, 40]),\n",
       " ('H09', [5.875, 16]),\n",
       " ('C09', [5.870967741935484, 31]),\n",
       " ('B14', [5.866666666666666, 60]),\n",
       " ('G01', [5.866666666666666, 15]),\n",
       " ('501', [5.842105263157895, 38]),\n",
       " ('J04', [5.833333333333333, 12]),\n",
       " ('F03', [5.828571428571428, 35]),\n",
       " ('H07', [5.809523809523809, 63]),\n",
       " ('E03', [5.7894736842105265, 57]),\n",
       " ('D08', [5.777777777777778, 18]),\n",
       " ('712', [5.773584905660377, 159]),\n",
       " ('I04', [5.773584905660377, 53]),\n",
       " ('126', [5.769230769230769, 26]),\n",
       " ('I12', [5.769230769230769, 26]),\n",
       " ('G13', [5.764705882352941, 17]),\n",
       " ('419', [5.7631578947368425, 76]),\n",
       " ('J05', [5.762711864406779, 59]),\n",
       " ('J20', [5.75, 24]),\n",
       " ('G14', [5.75, 8]),\n",
       " ('I08', [5.741935483870968, 31]),\n",
       " ('J08', [5.735849056603773, 53]),\n",
       " ('J07', [5.733333333333333, 15]),\n",
       " ('I11', [5.730769230769231, 52]),\n",
       " ('322', [5.7272727272727275, 22]),\n",
       " ('H13', [5.724137931034483, 29]),\n",
       " ('408', [5.72, 50]),\n",
       " ('J19', [5.714285714285714, 35]),\n",
       " ('G18', [5.714285714285714, 14]),\n",
       " ('F10', [5.714285714285714, 7]),\n",
       " ('F09', [5.714285714285714, 7]),\n",
       " ('325', [5.709090909090909, 55]),\n",
       " ('345', [5.705882352941177, 34]),\n",
       " ('C16', [5.7, 20]),\n",
       " ('509', [5.696969696969697, 66]),\n",
       " ('504', [5.6923076923076925, 91]),\n",
       " ('B03', [5.6923076923076925, 26]),\n",
       " ('114', [5.68, 25]),\n",
       " ('425', [5.677966101694915, 118]),\n",
       " ('229', [5.67741935483871, 31]),\n",
       " ('C03', [5.675675675675675, 37]),\n",
       " ('302', [5.674418604651163, 86]),\n",
       " ('I14', [5.666666666666667, 36]),\n",
       " ('350', [5.666666666666667, 30]),\n",
       " ('H06', [5.666666666666667, 12]),\n",
       " ('D15', [5.666666666666667, 6]),\n",
       " ('J17', [5.666666666666667, 6]),\n",
       " ('516', [5.660550458715596, 218]),\n",
       " ('J01', [5.658536585365853, 82]),\n",
       " ('I09', [5.6571428571428575, 70]),\n",
       " ('D03', [5.6521739130434785, 23]),\n",
       " ('E04', [5.65, 40]),\n",
       " ('E16', [5.647058823529412, 17]),\n",
       " ('F29', [5.642857142857143, 28]),\n",
       " ('C22', [5.636363636363637, 22]),\n",
       " ('I03', [5.62962962962963, 108]),\n",
       " ('J18', [5.62962962962963, 27]),\n",
       " ('E02', [5.625, 32]),\n",
       " ('F08', [5.625, 16]),\n",
       " ('348', [5.621621621621622, 111]),\n",
       " ('E07', [5.619047619047619, 21]),\n",
       " ('517', [5.615384615384615, 78]),\n",
       " ('I18', [5.615384615384615, 26]),\n",
       " ('C11', [5.611111111111111, 36]),\n",
       " ('C15', [5.6, 35]),\n",
       " ('G15', [5.6, 25]),\n",
       " ('G23', [5.6, 10]),\n",
       " ('F01', [5.6, 10]),\n",
       " ('I16', [5.6, 5]),\n",
       " ('F07', [5.6, 5]),\n",
       " ('B21', [5.578947368421052, 19]),\n",
       " ('E06', [5.574468085106383, 47]),\n",
       " ('D10', [5.571428571428571, 56]),\n",
       " ('B22', [5.565217391304348, 46]),\n",
       " ('406', [5.555555555555555, 54]),\n",
       " ('J13', [5.555555555555555, 18]),\n",
       " ('D12', [5.555555555555555, 9]),\n",
       " ('F18', [5.555555555555555, 9]),\n",
       " ('518', [5.551724137931035, 116]),\n",
       " ('I07', [5.548387096774194, 31]),\n",
       " ('105', [5.548387096774194, 31]),\n",
       " ('C04', [5.538461538461538, 13]),\n",
       " ('214', [5.535714285714286, 56]),\n",
       " ('411', [5.534883720930233, 43]),\n",
       " ('329', [5.529411764705882, 34]),\n",
       " ('506', [5.528662420382165, 157]),\n",
       " ('C07', [5.513513513513513, 37]),\n",
       " ('511', [5.5, 100]),\n",
       " ('107', [5.5, 96]),\n",
       " ('G08', [5.5, 20]),\n",
       " ('B06', [5.5, 16]),\n",
       " ('120', [5.5, 12]),\n",
       " ('B11', [5.5, 8]),\n",
       " ('D09', [5.5, 8]),\n",
       " ('D16', [5.5, 4]),\n",
       " ('307', [5.48936170212766, 47]),\n",
       " ('102', [5.488372093023256, 43]),\n",
       " ('I10', [5.488372093023256, 43]),\n",
       " ('I01', [5.485714285714286, 70]),\n",
       " ('502', [5.485148514851486, 101]),\n",
       " ('E14', [5.478260869565218, 23]),\n",
       " ('C05', [5.476923076923077, 65]),\n",
       " ('223', [5.468085106382978, 94]),\n",
       " ('G16', [5.466666666666667, 30]),\n",
       " ('E10', [5.466666666666667, 15]),\n",
       " ('D13', [5.466666666666667, 15]),\n",
       " ('503', [5.463414634146342, 123]),\n",
       " ('507', [5.463414634146342, 82]),\n",
       " ('424', [5.454545454545454, 33]),\n",
       " ('429', [5.440860215053763, 93]),\n",
       " ('109', [5.431578947368421, 95]),\n",
       " ('D07', [5.428571428571429, 35]),\n",
       " ('I02', [5.428571428571429, 28]),\n",
       " ('D05', [5.428571428571429, 28]),\n",
       " ('C06', [5.428571428571429, 14]),\n",
       " ('E17', [5.428571428571429, 14]),\n",
       " ('B26', [5.428571428571429, 14]),\n",
       " ('B28', [5.428571428571429, 7]),\n",
       " ('204N', [5.428571428571429, 7]),\n",
       " ('118', [5.421686746987952, 83]),\n",
       " ('409', [5.418181818181818, 55]),\n",
       " ('I24', [5.416666666666667, 24]),\n",
       " ('E01', [5.4, 10]),\n",
       " ('B04', [5.4, 10]),\n",
       " ('J10', [5.393939393939394, 33]),\n",
       " ('F20', [5.388888888888889, 36]),\n",
       " ('110', [5.384615384615385, 65]),\n",
       " ('B20', [5.384615384615385, 13]),\n",
       " ('F14', [5.375, 16]),\n",
       " ('323', [5.375, 16]),\n",
       " ('D02', [5.375, 16]),\n",
       " ('211', [5.371428571428571, 35]),\n",
       " ('111', [5.36986301369863, 73]),\n",
       " ('435', [5.365853658536586, 41]),\n",
       " ('508', [5.364238410596027, 151]),\n",
       " ('C20', [5.363636363636363, 22]),\n",
       " ('385', [5.36, 50]),\n",
       " ('G22', [5.352941176470588, 34]),\n",
       " ('403', [5.352941176470588, 34]),\n",
       " ('303', [5.3478260869565215, 46]),\n",
       " ('B27', [5.333333333333333, 18]),\n",
       " ('H04', [5.333333333333333, 18]),\n",
       " ('B16', [5.333333333333333, 15]),\n",
       " ('B02', [5.333333333333333, 12]),\n",
       " ('I25', [5.333333333333333, 3]),\n",
       " ('B23', [5.333333333333333, 3]),\n",
       " ('418', [5.327433628318584, 113]),\n",
       " ('505', [5.326315789473684, 95]),\n",
       " ('115', [5.317073170731708, 82]),\n",
       " ('B19', [5.310344827586207, 29]),\n",
       " ('227', [5.3090909090909095, 55]),\n",
       " ('314', [5.294117647058823, 34]),\n",
       " ('D18', [5.294117647058823, 17]),\n",
       " ('B05', [5.290322580645161, 31]),\n",
       " ('412', [5.285714285714286, 56]),\n",
       " ('F13', [5.285714285714286, 14]),\n",
       " ('216', [5.28, 150]),\n",
       " ('J12', [5.28, 25]),\n",
       " ('125', [5.2727272727272725, 22]),\n",
       " ('103', [5.2727272727272725, 22]),\n",
       " ('E09', [5.2727272727272725, 11]),\n",
       " ('104', [5.267605633802817, 71]),\n",
       " ('209', [5.260869565217392, 46]),\n",
       " ('510', [5.260273972602739, 73]),\n",
       " ('226', [5.255813953488372, 43]),\n",
       " ('428', [5.252525252525253, 99]),\n",
       " ('H08', [5.25, 8]),\n",
       " ('E12', [5.230769230769231, 26]),\n",
       " ('401', [5.2272727272727275, 88]),\n",
       " ('206', [5.225806451612903, 31]),\n",
       " ('E18', [5.222222222222222, 18]),\n",
       " ('301', [5.213872832369942, 173]),\n",
       " ('I05', [5.2, 35]),\n",
       " ('B17', [5.2, 5]),\n",
       " ('F06', [5.1891891891891895, 37]),\n",
       " ('H14', [5.185185185185185, 54]),\n",
       " ('404', [5.183673469387755, 49]),\n",
       " ('205', [5.180327868852459, 61]),\n",
       " ('B09', [5.176470588235294, 17]),\n",
       " ('E13', [5.161290322580645, 31]),\n",
       " ('J03', [5.157894736842105, 19]),\n",
       " ('E05', [5.157894736842105, 19]),\n",
       " ('B12', [5.151515151515151, 33]),\n",
       " ('119', [5.142857142857143, 35]),\n",
       " ('I13', [5.142857142857143, 7]),\n",
       " ('D17', [5.142857142857143, 7]),\n",
       " ('E11', [5.138461538461539, 65]),\n",
       " ('210', [5.137931034482759, 58]),\n",
       " ('430', [5.137254901960785, 102]),\n",
       " ('421', [5.133333333333334, 60]),\n",
       " ('514', [5.127659574468085, 94]),\n",
       " ('B08', [5.125, 16]),\n",
       " ('203', [5.116883116883117, 77]),\n",
       " ('405', [5.111111111111111, 135]),\n",
       " ('108', [5.111111111111111, 45]),\n",
       " ('G07', [5.111111111111111, 9]),\n",
       " ('J02', [5.111111111111111, 9]),\n",
       " ('423', [5.095238095238095, 42]),\n",
       " ('D14', [5.090909090909091, 22]),\n",
       " ('407', [5.083333333333333, 48]),\n",
       " ('308', [5.076923076923077, 26]),\n",
       " ('G09', [5.066666666666666, 15]),\n",
       " ('B13', [5.0625, 32]),\n",
       " ('212', [5.057142857142857, 70]),\n",
       " ('513', [5.049180327868853, 61]),\n",
       " ('113', [5.041095890410959, 73]),\n",
       " ('204', [5.04, 75]),\n",
       " ('D11', [5.024390243902439, 41]),\n",
       " ('106', [5.015873015873016, 63]),\n",
       " ('201', [5.010309278350515, 97]),\n",
       " ('116', [5.0, 34]),\n",
       " ('208', [5.0, 18]),\n",
       " ('228', [5.0, 16]),\n",
       " ('F12', [5.0, 8]),\n",
       " ('F23', [5.0, 6]),\n",
       " ('C02', [5.0, 4]),\n",
       " ('112N', [5.0, 2]),\n",
       " ('F27', [5.0, 2]),\n",
       " ('B29', [5.0, 2]),\n",
       " ('C01', [4.9787234042553195, 47]),\n",
       " ('F25', [4.9411764705882355, 17]),\n",
       " ('B18', [4.9411764705882355, 17]),\n",
       " ('F05', [4.935483870967742, 62]),\n",
       " ('422', [4.923076923076923, 39]),\n",
       " ('C14', [4.916666666666667, 24]),\n",
       " ('426', [4.888888888888889, 63]),\n",
       " ('C12', [4.888888888888889, 9]),\n",
       " ('230', [4.883720930232558, 86]),\n",
       " ('101', [4.875, 32]),\n",
       " ('F02', [4.857142857142857, 7]),\n",
       " ('117', [4.836363636363636, 55]),\n",
       " ('410', [4.823529411764706, 17]),\n",
       " ('224', [4.813953488372093, 86]),\n",
       " ('G04', [4.8, 10]),\n",
       " ('C18', [4.8, 5]),\n",
       " ('402', [4.769230769230769, 13]),\n",
       " ('I21', [4.75, 8]),\n",
       " ('225', [4.7407407407407405, 81]),\n",
       " ('G05', [4.709677419354839, 31]),\n",
       " ('B07', [4.666666666666667, 12]),\n",
       " ('541N', [4.666666666666667, 3]),\n",
       " ('C08', [4.666666666666667, 3]),\n",
       " ('B10', [4.461538461538462, 13]),\n",
       " ('G11', [4.444444444444445, 9]),\n",
       " ('B25', [4.222222222222222, 9]),\n",
       " ('F11', [4.0, 2]),\n",
       " ('D09N', [4.0, 2]),\n",
       " ('C19', [4.0, 1]),\n",
       " ('321', [4.0, 1]),\n",
       " ('B30N', [4.0, 1]),\n",
       " ('432N', [2.0, 1]),\n",
       " ('C21N', [2.0, 1])]"
      ]
     },
     "execution_count": 32,
     "metadata": {},
     "output_type": "execute_result"
    }
   ],
   "source": [
    "sorted(b.items(), key=lambda v: v[1], reverse=True)"
   ]
  },
  {
   "cell_type": "code",
   "execution_count": 34,
   "metadata": {},
   "outputs": [],
   "source": [
    "notas = pd.DataFrame([(k, v[0], v[1]) for k, v in b.items()], \n",
    "                   columns=['servicio', 'nota', 'observaciones'])"
   ]
  },
  {
   "cell_type": "code",
   "execution_count": 36,
   "metadata": {},
   "outputs": [],
   "source": [
    "notas=notas[notas['observaciones']>49]"
   ]
  },
  {
   "cell_type": "code",
   "execution_count": 37,
   "metadata": {},
   "outputs": [
    {
     "data": {
      "text/plain": [
       "(74, 3)"
      ]
     },
     "execution_count": 37,
     "metadata": {},
     "output_type": "execute_result"
    }
   ],
   "source": [
    "notas.shape"
   ]
  },
  {
   "cell_type": "code",
   "execution_count": 38,
   "metadata": {},
   "outputs": [],
   "source": [
    "notas.to_csv(\"notas_ene_feb.csv\", encoding='utf-8', index=False, sep=',')"
   ]
  },
  {
   "cell_type": "code",
   "execution_count": 81,
   "metadata": {},
   "outputs": [],
   "source": [
    "df=df[df['evaluation_mod']>0]"
   ]
  },
  {
   "cell_type": "code",
   "execution_count": 101,
   "metadata": {},
   "outputs": [
    {
     "data": {
      "text/plain": [
       "(16458, 33)"
      ]
     },
     "execution_count": 101,
     "metadata": {},
     "output_type": "execute_result"
    }
   ],
   "source": [
    "df.shape"
   ]
  },
  {
   "cell_type": "code",
   "execution_count": 102,
   "metadata": {},
   "outputs": [
    {
     "data": {
      "image/png": "[encoded data removed]",
      "text/plain": [
       "<Figure size 720x576 with 1 Axes>"
      ]
     },
     "metadata": {
      "needs_background": "light"
     },
     "output_type": "display_data"
    }
   ],
   "source": [
    "#Datos para evaluaciones por operador\n",
    "operadores=sorted(list(df.carrier.unique()))\n",
    "evaluaciones=[]\n",
    "observaciones=[]\n",
    "leyenda = ['Nota 1', 'Nota 4', 'Nota 7']\n",
    "data = [[0 for _ in range(len(operadores))] for _ in range(len(leyenda))]\n",
    "criteria = [1,4,7]\n",
    "\n",
    "for month_index, i in enumerate(operadores):\n",
    "    percentages = []\n",
    "    for max_value in criteria:\n",
    "        df3=df[(df['evaluation']==max_value) & (df['carrier']==i)]['duration(min)']\n",
    "        value=df3.count()\n",
    "        percentages.append(value)\n",
    "    \n",
    "    for index, percentage in enumerate(percentages):\n",
    "        data[index][month_index] = round((percentage/sum(percentages)) * 100, 1)\n",
    "        \n",
    "    observacion = df[(df['carrier']==i)]['duration(min)'].count()\n",
    "    observaciones.append((round(observacion, 1)))\n",
    "    promedio=df.groupby('carrier').agg({'evaluation':['mean']})\n",
    "\n",
    "promedio_array = promedio['evaluation'].get_values()\n",
    "promedio_list = list(map(lambda x: round(x, 1), promedio_array[:,0].tolist()))\n",
    "colors = ['red', '#7DC242', '#539e11']\n",
    "\n",
    "make_stacked_bars(leyenda, data, operadores, colors, sample_size=observaciones, avg_waiting_time=promedio_list)\n",
    "\n"
   ]
  },
  {
   "cell_type": "code",
   "execution_count": 68,
   "metadata": {},
   "outputs": [
    {
     "data": {
      "text/plain": [
       "array([ 1,  2,  8,  9, 10, 11, 12])"
      ]
     },
     "execution_count": 68,
     "metadata": {},
     "output_type": "execute_result"
    }
   ],
   "source": [
    "Meses"
   ]
  },
  {
   "cell_type": "code",
   "execution_count": 137,
   "metadata": {},
   "outputs": [
    {
     "data": {
      "image/png": "[encoded data removed]",
      "text/plain": [
       "<Figure size 720x576 with 1 Axes>"
      ]
     },
     "metadata": {
      "needs_background": "light"
     },
     "output_type": "display_data"
    }
   ],
   "source": [
    "#notas por operador de encuesta\n",
    "\n",
    "legend = ['Nota 1-3', 'Nota 4', 'Nota 5-7']\n",
    "data = [[16.9, 5.4, 6.8, 14.3, 12.8, 14.8, 14.9], [24.4, 16.9, 12.7, 18.8, 15.8, 23, 21], [58.7, 77.6, 80.6, 66.9, 71.3, 62.2, 64.1]]\n",
    "names = sorted(list(df.carrier.unique()))\n",
    "sample_size = [750, 739, 735, 728, 754, 748, 746]\n",
    "avg_waiting_time = [4.6, 5.2, 5.3, 4.8, 4.9, 4.8, 4.7]\n",
    "\n",
    "make_stacked_bars(legend, data, names, colors, sample_size=sample_size, avg_waiting_time=avg_waiting_time)"
   ]
  },
  {
   "cell_type": "code",
   "execution_count": 179,
   "metadata": {},
   "outputs": [],
   "source": [
    "df=df_gral[(df_gral['month']==1) | (df_gral['month']==2) ]"
   ]
  },
  {
   "cell_type": "code",
   "execution_count": 138,
   "metadata": {},
   "outputs": [
    {
     "data": {
      "image/png": "[encoded data removed]",
      "text/plain": [
       "<Figure size 720x576 with 1 Axes>"
      ]
     },
     "metadata": {
      "needs_background": "light"
     },
     "output_type": "display_data"
    }
   ],
   "source": [
    "#Datos para evaluaciones por operador con escala modificada\n",
    "operadores=sorted(list(df.carrier.unique()))\n",
    "evaluaciones=[]\n",
    "observaciones=[]\n",
    "leyenda = ['Nota 1-3', 'Nota 4', 'Nota 5-7']\n",
    "data = [[0 for _ in range(len(operadores))] for _ in range(len(leyenda))]\n",
    "criteria = [2,4,6]\n",
    "\n",
    "for month_index, i in enumerate(operadores):\n",
    "    percentages = []\n",
    "    for max_value in criteria:\n",
    "        df3=df[(df['evaluation_mod']==max_value) & (df['carrier']==i)]['duration(min)']\n",
    "        value=df3.count()\n",
    "        percentages.append(value)\n",
    "    \n",
    "    for index, percentage in enumerate(percentages):\n",
    "        data[index][month_index] = round((percentage/sum(percentages)) * 100, 1)\n",
    "        \n",
    "    observacion = df[(df['carrier']==i)]['duration(min)'].count()\n",
    "    observaciones.append((round(observacion, 1)))\n",
    "    promedio=df.groupby('carrier').agg({'evaluation_mod':['mean']})\n",
    "    \n",
    "promedio_array = promedio['evaluation_mod'].get_values()\n",
    "promedio_list = list(map(lambda x: round(x, 1), promedio_array[:,0].tolist()))\n",
    "colors = ['red', '#7DC242', '#539e11']\n",
    "\n",
    "make_stacked_bars(leyenda, data, operadores, colors, sample_size=observaciones, avg_waiting_time=promedio_list)\n"
   ]
  },
  {
   "cell_type": "code",
   "execution_count": 64,
   "metadata": {},
   "outputs": [
    {
     "data": {
      "text/plain": [
       "['Alsacia',\n",
       " 'Buses Metropolitana',\n",
       " 'Buses Vule',\n",
       " 'Express',\n",
       " 'Red Bus Urbano',\n",
       " 'STP Santiago',\n",
       " 'Su Bus']"
      ]
     },
     "execution_count": 64,
     "metadata": {},
     "output_type": "execute_result"
    }
   ],
   "source": [
    "sorted(list(df.carrier.unique()))"
   ]
  },
  {
   "cell_type": "code",
   "execution_count": 65,
   "metadata": {},
   "outputs": [
    {
     "data": {
      "image/png": "[encoded data removed]",
      "text/plain": [
       "<Figure size 864x288 with 1 Axes>"
      ]
     },
     "metadata": {
      "needs_background": "light"
     },
     "output_type": "display_data"
    }
   ],
   "source": [
    "#funcion para hacer grafico por operador y por mes\n",
    "import matplotlib.pyplot as plt\n",
    "\n",
    "def make_chart3(x_labels, legend, data, colors, sample_size=None):\n",
    "    assert len(x_labels) == len(data)\n",
    "    for row in data:\n",
    "        assert len(row) == len(colors)\n",
    "    assert len(legend) == len(colors)\n",
    "    if sample_size is not None:\n",
    "        assert len(x_labels) == len(sample_size)\n",
    "    \n",
    "    plt.figure(figsize=(12, 4))\n",
    "    ax = plt.subplot(111)\n",
    "    \n",
    "    bar_width = 0.6\n",
    "    start = 0\n",
    "    step = int(bar_width * len(data[0])) + 1\n",
    "    stop = step * len(x_labels)\n",
    "    base_positions = list(range(start, stop, step))\n",
    "    \n",
    "    rectangles = []\n",
    "    y_max = 0\n",
    "    for i, row in enumerate(data):\n",
    "        y_max = max(row) if max(row) > y_max else y_max\n",
    "        positions = [base_positions[i] + k * bar_width for k in range(len(row))]\n",
    "        rectangles = ax.bar(positions, row, bar_width, color=colors)\n",
    "        \n",
    "        for j, value in enumerate(row):\n",
    "            ax.text(base_positions[i] + j * bar_width, value + 0.1, str(value), color='black', horizontalalignment='center')\n",
    "        \n",
    "    #ax.set_title('Tiempo de espera', fontdict={'fontsize': 18})\n",
    "    ax.spines['top'].set_visible(False)\n",
    "    ax.spines['right'].set_visible(False)\n",
    "    ax.spines['left'].set_visible(False)\n",
    "    #ax.axes.get_yaxis().set_visible(False)\n",
    "\n",
    "    ax.set_xticklabels(x_labels)\n",
    "    x_ticks_positions = list(map(lambda x: x + bar_width * (len(legend) - 1) / 2, base_positions))\n",
    "    ax.set_xticks(x_ticks_positions)\n",
    "    \n",
    "    ax.legend(rectangles, legend, loc='upper center', ncol = len(legend))#, bbox_to_anchor=(0.5, 1.25))\n",
    "    ax.set_ylim([0, y_max * 1.3])\n",
    "    \n",
    "    if sample_size is not None:\n",
    "        x_max = ax.get_xlim()[1]\n",
    "        x_base_position = x_max * -0.2\n",
    "        y_sample_position = y_max * -0.25\n",
    "        ax.text(x_base_position, y_sample_position, 'Base (n):')  \n",
    "        \n",
    "        # put text once\n",
    "        for j, sample in enumerate(sample_size):\n",
    "            ax.text(x_ticks_positions[j], y_sample_position, \"{:,}\".format(sample_size[j]), horizontalalignment='center')\n",
    "########################################################################\n",
    "# EXAMPLE\n",
    "########################################################################\n",
    "data = [\n",
    "    [14.6, 15.2, 14.8, 14.5, 14.7, 13.8], # total\n",
    "    [15.7, 16.1, 15.1, 16.2, 18.0, 14.3], # Alsacia\n",
    "    [16.2, 15.8, 14.7, 15.5, 14.0, 13.8]  # Su Bus\n",
    "    # mes1, mes2, mes3, mes4, mes5, mes6\n",
    "]\n",
    "x_labels = ['Total' ,'Alsacia', 'Su Bus']\n",
    "legend = ['mes 1', 'mes 2', 'mes 3', 'mes 4', 'mes 5', 'mes 6']\n",
    "colors = ['#9E9E9E', '#757575', '#616161', '#424242', 'black', 'green']\n",
    "sample_size = [50, 10, 5]\n",
    "\n",
    "make_chart3(x_labels, legend, data, colors, sample_size)\n",
    "#make_chart3(x_labels, legend, data, colors)"
   ]
  },
  {
   "cell_type": "code",
   "execution_count": 66,
   "metadata": {},
   "outputs": [],
   "source": [
    "#Datos para tiempo de espera por operador y mes\n",
    "df0=df[df['distFirstGPSToBoardingBusStop']<150]\n",
    "df1=df0.groupby(['carrier', 'month'], as_index=False).agg({'waitingTimeEstimateMin':['mean']})\n",
    "df2=df0.groupby(['month'], as_index=False).agg({'waitingTimeEstimateMin':['mean']})\n",
    "operadores=df.carrier.unique()\n",
    "tiempos=[]\n",
    "observaciones=[]\n",
    "leyenda = ['Promedio Minutos Marzo', 'Promedio Minutos Abril', 'Promedio Minutos Mayo']\n",
    "colors = ['#9E9E9E', '#757575', '#7DC242']\n",
    "data = [[0 for _ in range(len(Meses))] for _ in range(len(operadores)+1)] \n",
    "\n",
    "observacion = df[['duration(min)']].count().values[0]\n",
    "observaciones.append((round(observacion, 1)))\n",
    "\n",
    "percentages = []       \n",
    "for max_value in Meses:\n",
    "    df3=df2[(df2['month']==max_value)]['waitingTimeEstimateMin']\n",
    "    value=df3.iat[0,0]\n",
    "    value=round(value,1)\n",
    "    percentages.append(value)\n",
    "    df[['duration(min)']].count().values[0]\n",
    "for index, percentage in enumerate(percentages):\n",
    "    data[0][index] = percentage \n",
    "\n",
    "for month_index, i in enumerate(operadores):\n",
    "    percentages = []\n",
    "    \n",
    "    for max_value in Meses:\n",
    "        df3=df1[(df1['month']==max_value) & (df1['carrier']==i)]['waitingTimeEstimateMin']\n",
    "        value=df3.iat[0,0]\n",
    "        value=round(value,1)\n",
    "        percentages.append(value)\n",
    "        \n",
    "    for index, percentage in enumerate(percentages):\n",
    "        data[month_index+1][index] = percentage \n",
    "        \n",
    "    observacion = df[(df['carrier']==i)]['duration(min)'].count()\n",
    "    observaciones.append((round(observacion, 1)))\n",
    "\n",
    "    \n",
    "\n",
    "operadores=['Total']\n",
    "for i in list(df.carrier.unique()):\n",
    "    operadores.append(i)\n"
   ]
  },
  {
   "cell_type": "code",
   "execution_count": 67,
   "metadata": {},
   "outputs": [
    {
     "ename": "AssertionError",
     "evalue": "",
     "output_type": "error",
     "traceback": [
      "\u001b[0;31m---------------------------------------------------------------------------\u001b[0m",
      "\u001b[0;31mAssertionError\u001b[0m                            Traceback (most recent call last)",
      "\u001b[0;32m<ipython-input-67-6b426531acf1>\u001b[0m in \u001b[0;36m<module>\u001b[0;34m\u001b[0m\n\u001b[0;32m----> 1\u001b[0;31m \u001b[0mmake_chart3\u001b[0m\u001b[0;34m(\u001b[0m\u001b[0moperadores\u001b[0m\u001b[0;34m,\u001b[0m \u001b[0mleyenda\u001b[0m\u001b[0;34m,\u001b[0m \u001b[0mdata\u001b[0m\u001b[0;34m,\u001b[0m \u001b[0mcolors\u001b[0m\u001b[0;34m,\u001b[0m \u001b[0mobservaciones\u001b[0m\u001b[0;34m)\u001b[0m\u001b[0;34m\u001b[0m\u001b[0;34m\u001b[0m\u001b[0m\n\u001b[0m",
      "\u001b[0;32m<ipython-input-65-90d3f00918f9>\u001b[0m in \u001b[0;36mmake_chart3\u001b[0;34m(x_labels, legend, data, colors, sample_size)\u001b[0m\n\u001b[1;32m      5\u001b[0m     \u001b[0;32massert\u001b[0m \u001b[0mlen\u001b[0m\u001b[0;34m(\u001b[0m\u001b[0mx_labels\u001b[0m\u001b[0;34m)\u001b[0m \u001b[0;34m==\u001b[0m \u001b[0mlen\u001b[0m\u001b[0;34m(\u001b[0m\u001b[0mdata\u001b[0m\u001b[0;34m)\u001b[0m\u001b[0;34m\u001b[0m\u001b[0;34m\u001b[0m\u001b[0m\n\u001b[1;32m      6\u001b[0m     \u001b[0;32mfor\u001b[0m \u001b[0mrow\u001b[0m \u001b[0;32min\u001b[0m \u001b[0mdata\u001b[0m\u001b[0;34m:\u001b[0m\u001b[0;34m\u001b[0m\u001b[0;34m\u001b[0m\u001b[0m\n\u001b[0;32m----> 7\u001b[0;31m         \u001b[0;32massert\u001b[0m \u001b[0mlen\u001b[0m\u001b[0;34m(\u001b[0m\u001b[0mrow\u001b[0m\u001b[0;34m)\u001b[0m \u001b[0;34m==\u001b[0m \u001b[0mlen\u001b[0m\u001b[0;34m(\u001b[0m\u001b[0mcolors\u001b[0m\u001b[0;34m)\u001b[0m\u001b[0;34m\u001b[0m\u001b[0;34m\u001b[0m\u001b[0m\n\u001b[0m\u001b[1;32m      8\u001b[0m     \u001b[0;32massert\u001b[0m \u001b[0mlen\u001b[0m\u001b[0;34m(\u001b[0m\u001b[0mlegend\u001b[0m\u001b[0;34m)\u001b[0m \u001b[0;34m==\u001b[0m \u001b[0mlen\u001b[0m\u001b[0;34m(\u001b[0m\u001b[0mcolors\u001b[0m\u001b[0;34m)\u001b[0m\u001b[0;34m\u001b[0m\u001b[0;34m\u001b[0m\u001b[0m\n\u001b[1;32m      9\u001b[0m     \u001b[0;32mif\u001b[0m \u001b[0msample_size\u001b[0m \u001b[0;32mis\u001b[0m \u001b[0;32mnot\u001b[0m \u001b[0;32mNone\u001b[0m\u001b[0;34m:\u001b[0m\u001b[0;34m\u001b[0m\u001b[0;34m\u001b[0m\u001b[0m\n",
      "\u001b[0;31mAssertionError\u001b[0m: "
     ]
    }
   ],
   "source": [
    "make_chart3(operadores, leyenda, data, colors, observaciones)\n"
   ]
  },
  {
   "cell_type": "code",
   "execution_count": 52,
   "metadata": {},
   "outputs": [],
   "source": [
    "#Datos para tiempo de viaje por operador y mes\n",
    "df1=df.groupby(['carrier', 'month'], as_index=False).agg({'duration(min)':['mean']})\n",
    "df2=df.groupby(['month'], as_index=False).agg({'duration(min)':['mean']})\n",
    "operadores=df.carrier.unique()\n",
    "tiempos=[]\n",
    "observaciones=[]\n",
    "leyenda = ['Promedio Minutos Marzo', 'Promedio Minutos Abril', 'Promedio Minutos Mayo']\n",
    "colors = ['#9E9E9E', '#757575', '#7DC242']\n",
    "data = [[0 for _ in range(len(Meses))] for _ in range(len(operadores)+1)] \n",
    "\n",
    "observacion = df[['duration(min)']].count().values[0]\n",
    "observaciones.append((round(observacion, 1)))\n",
    "\n",
    "percentages = []       \n",
    "for max_value in Meses:\n",
    "    df3=df2[(df2['month']==max_value)]['duration(min)']\n",
    "    value=df3.iat[0,0]\n",
    "    value=round(value,1)\n",
    "    percentages.append(value)\n",
    "    \n",
    "for index, percentage in enumerate(percentages):\n",
    "    data[0][index] = percentage \n",
    "\n",
    "for month_index, i in enumerate(operadores):\n",
    "    percentages = []\n",
    "    \n",
    "    for max_value in Meses:\n",
    "        df3=df1[(df1['month']==max_value) & (df1['carrier']==i)]['duration(min)']\n",
    "        value=df3.iat[0,0]\n",
    "        value=round(value,1)\n",
    "        percentages.append(value)\n",
    "        \n",
    "    for index, percentage in enumerate(percentages):\n",
    "        data[month_index+1][index] = percentage \n",
    "        \n",
    "    observacion = df[(df['carrier']==i)]['duration(min)'].count()\n",
    "    observaciones.append((round(observacion, 1)))\n",
    "\n",
    "\n",
    "operadores=['Total']\n",
    "for i in list(df.carrier.unique()):\n",
    "    operadores.append(i)"
   ]
  },
  {
   "cell_type": "code",
   "execution_count": 53,
   "metadata": {},
   "outputs": [
    {
     "data": {
      "image/png": "[encoded data removed]",
      "text/plain": [
       "<Figure size 864x288 with 1 Axes>"
      ]
     },
     "metadata": {},
     "output_type": "display_data"
    }
   ],
   "source": [
    "make_chart3(operadores, leyenda, data, colors, observaciones)"
   ]
  },
  {
   "cell_type": "code",
   "execution_count": 80,
   "metadata": {},
   "outputs": [
    {
     "data": {
      "text/plain": [
       "[8, 9, 10]"
      ]
     },
     "execution_count": 80,
     "metadata": {},
     "output_type": "execute_result"
    }
   ],
   "source": [
    "Meses"
   ]
  },
  {
   "cell_type": "code",
   "execution_count": 78,
   "metadata": {},
   "outputs": [],
   "source": [
    "#Datos para evaluaciones por operador y mes\n",
    "df1=df.groupby(['carrier', 'month'], as_index=False).agg({'evaluation':['mean']})\n",
    "df2=df.groupby(['month'], as_index=False).agg({'evaluation':['mean']})\n",
    "operadores=df.carrier.unique()\n",
    "tiempos=[]\n",
    "observaciones=[]\n",
    "leyenda = ['Promedio Minutos Marzo', 'Promedio Minutos Abril', 'Promedio Minutos Mayo']\n",
    "colors = ['#9E9E9E', '#757575', '#7DC242']\n",
    "data = [[0 for _ in range(len(Meses))] for _ in range(len(operadores)+1)] \n",
    "\n",
    "observacion = df[['duration(min)']].count().values[0]\n",
    "observaciones.append((round(observacion, 1)))\n",
    "\n",
    "percentages = []       \n",
    "for max_value in Meses:\n",
    "    df3=df2[(df2['month']==max_value)]['evaluation']\n",
    "    value=df3.iat[0,0]\n",
    "    value=round(value,1)\n",
    "    percentages.append(value)\n",
    "    \n",
    "for index, percentage in enumerate(percentages):\n",
    "    data[0][index] = percentage \n",
    "\n",
    "for month_index, i in enumerate(operadores):\n",
    "    percentages = []\n",
    "    \n",
    "    for max_value in Meses:\n",
    "        df3=df1[(df1['month']==max_value) & (df1['carrier']==i)]['evaluation']\n",
    "        value=df3.iat[0,0]\n",
    "        value=round(value,1)\n",
    "        percentages.append(value)\n",
    "        \n",
    "    for index, percentage in enumerate(percentages):\n",
    "        data[month_index+1][index] = percentage \n",
    "        \n",
    "    observacion = df[(df['carrier']==i)]['duration(min)'].count()\n",
    "    observaciones.append((round(observacion, 1)))\n",
    "\n",
    "\n",
    "operadores=['Total']\n",
    "for i in list(df.carrier.unique()):\n",
    "    operadores.append(i)"
   ]
  },
  {
   "cell_type": "code",
   "execution_count": 79,
   "metadata": {},
   "outputs": [
    {
     "data": {
      "image/png": "[encoded data removed]",
      "text/plain": [
       "<Figure size 864x288 with 1 Axes>"
      ]
     },
     "metadata": {
      "needs_background": "light"
     },
     "output_type": "display_data"
    }
   ],
   "source": [
    "make_chart3(operadores, leyenda, data, colors, observaciones)"
   ]
  },
  {
   "cell_type": "code",
   "execution_count": 56,
   "metadata": {},
   "outputs": [
    {
     "ename": "DataError",
     "evalue": "No numeric types to aggregate",
     "output_type": "error",
     "traceback": [
      "\u001b[1;31m---------------------------------------------------------------------------\u001b[0m",
      "\u001b[1;31mDataError\u001b[0m                                 Traceback (most recent call last)",
      "\u001b[1;32m<ipython-input-56-6f1ec4692bf0>\u001b[0m in \u001b[0;36m<module>\u001b[1;34m()\u001b[0m\n\u001b[0;32m      1\u001b[0m \u001b[1;31m#Datos para evaluaciones por operador y mes con escala modificada\u001b[0m\u001b[1;33m\u001b[0m\u001b[1;33m\u001b[0m\u001b[0m\n\u001b[1;32m----> 2\u001b[1;33m \u001b[0mdf1\u001b[0m\u001b[1;33m=\u001b[0m\u001b[0mdf\u001b[0m\u001b[1;33m.\u001b[0m\u001b[0mgroupby\u001b[0m\u001b[1;33m(\u001b[0m\u001b[1;33m[\u001b[0m\u001b[1;34m'carrier'\u001b[0m\u001b[1;33m,\u001b[0m \u001b[1;34m'month'\u001b[0m\u001b[1;33m]\u001b[0m\u001b[1;33m,\u001b[0m \u001b[0mas_index\u001b[0m\u001b[1;33m=\u001b[0m\u001b[1;32mFalse\u001b[0m\u001b[1;33m)\u001b[0m\u001b[1;33m.\u001b[0m\u001b[0magg\u001b[0m\u001b[1;33m(\u001b[0m\u001b[1;33m{\u001b[0m\u001b[1;34m'evaluation_mod'\u001b[0m\u001b[1;33m:\u001b[0m\u001b[1;33m[\u001b[0m\u001b[1;34m'mean'\u001b[0m\u001b[1;33m]\u001b[0m\u001b[1;33m}\u001b[0m\u001b[1;33m)\u001b[0m\u001b[1;33m\u001b[0m\u001b[0m\n\u001b[0m\u001b[0;32m      3\u001b[0m \u001b[0mdf2\u001b[0m\u001b[1;33m=\u001b[0m\u001b[0mdf\u001b[0m\u001b[1;33m.\u001b[0m\u001b[0mgroupby\u001b[0m\u001b[1;33m(\u001b[0m\u001b[1;33m[\u001b[0m\u001b[1;34m'month'\u001b[0m\u001b[1;33m]\u001b[0m\u001b[1;33m,\u001b[0m \u001b[0mas_index\u001b[0m\u001b[1;33m=\u001b[0m\u001b[1;32mFalse\u001b[0m\u001b[1;33m)\u001b[0m\u001b[1;33m.\u001b[0m\u001b[0magg\u001b[0m\u001b[1;33m(\u001b[0m\u001b[1;33m{\u001b[0m\u001b[1;34m'evaluation_mod'\u001b[0m\u001b[1;33m:\u001b[0m\u001b[1;33m[\u001b[0m\u001b[1;34m'mean'\u001b[0m\u001b[1;33m]\u001b[0m\u001b[1;33m}\u001b[0m\u001b[1;33m)\u001b[0m\u001b[1;33m\u001b[0m\u001b[0m\n\u001b[0;32m      4\u001b[0m \u001b[0moperadores\u001b[0m\u001b[1;33m=\u001b[0m\u001b[0mdf\u001b[0m\u001b[1;33m.\u001b[0m\u001b[0mcarrier\u001b[0m\u001b[1;33m.\u001b[0m\u001b[0munique\u001b[0m\u001b[1;33m(\u001b[0m\u001b[1;33m)\u001b[0m\u001b[1;33m\u001b[0m\u001b[0m\n\u001b[0;32m      5\u001b[0m \u001b[0mtiempos\u001b[0m\u001b[1;33m=\u001b[0m\u001b[1;33m[\u001b[0m\u001b[1;33m]\u001b[0m\u001b[1;33m\u001b[0m\u001b[0m\n",
      "\u001b[1;32mc:\\users\\jacke\\appdata\\local\\programs\\python\\python36-32\\lib\\site-packages\\pandas\\core\\groupby\\groupby.py\u001b[0m in \u001b[0;36maggregate\u001b[1;34m(self, arg, *args, **kwargs)\u001b[0m\n\u001b[0;32m   4656\u001b[0m         axis=''))\n\u001b[0;32m   4657\u001b[0m     \u001b[1;32mdef\u001b[0m \u001b[0maggregate\u001b[0m\u001b[1;33m(\u001b[0m\u001b[0mself\u001b[0m\u001b[1;33m,\u001b[0m \u001b[0marg\u001b[0m\u001b[1;33m,\u001b[0m \u001b[1;33m*\u001b[0m\u001b[0margs\u001b[0m\u001b[1;33m,\u001b[0m \u001b[1;33m**\u001b[0m\u001b[0mkwargs\u001b[0m\u001b[1;33m)\u001b[0m\u001b[1;33m:\u001b[0m\u001b[1;33m\u001b[0m\u001b[0m\n\u001b[1;32m-> 4658\u001b[1;33m         \u001b[1;32mreturn\u001b[0m \u001b[0msuper\u001b[0m\u001b[1;33m(\u001b[0m\u001b[0mDataFrameGroupBy\u001b[0m\u001b[1;33m,\u001b[0m \u001b[0mself\u001b[0m\u001b[1;33m)\u001b[0m\u001b[1;33m.\u001b[0m\u001b[0maggregate\u001b[0m\u001b[1;33m(\u001b[0m\u001b[0marg\u001b[0m\u001b[1;33m,\u001b[0m \u001b[1;33m*\u001b[0m\u001b[0margs\u001b[0m\u001b[1;33m,\u001b[0m \u001b[1;33m**\u001b[0m\u001b[0mkwargs\u001b[0m\u001b[1;33m)\u001b[0m\u001b[1;33m\u001b[0m\u001b[0m\n\u001b[0m\u001b[0;32m   4659\u001b[0m \u001b[1;33m\u001b[0m\u001b[0m\n\u001b[0;32m   4660\u001b[0m     \u001b[0magg\u001b[0m \u001b[1;33m=\u001b[0m \u001b[0maggregate\u001b[0m\u001b[1;33m\u001b[0m\u001b[0m\n",
      "\u001b[1;32mc:\\users\\jacke\\appdata\\local\\programs\\python\\python36-32\\lib\\site-packages\\pandas\\core\\groupby\\groupby.py\u001b[0m in \u001b[0;36maggregate\u001b[1;34m(self, arg, *args, **kwargs)\u001b[0m\n\u001b[0;32m   4087\u001b[0m \u001b[1;33m\u001b[0m\u001b[0m\n\u001b[0;32m   4088\u001b[0m         \u001b[0m_level\u001b[0m \u001b[1;33m=\u001b[0m \u001b[0mkwargs\u001b[0m\u001b[1;33m.\u001b[0m\u001b[0mpop\u001b[0m\u001b[1;33m(\u001b[0m\u001b[1;34m'_level'\u001b[0m\u001b[1;33m,\u001b[0m \u001b[1;32mNone\u001b[0m\u001b[1;33m)\u001b[0m\u001b[1;33m\u001b[0m\u001b[0m\n\u001b[1;32m-> 4089\u001b[1;33m         \u001b[0mresult\u001b[0m\u001b[1;33m,\u001b[0m \u001b[0mhow\u001b[0m \u001b[1;33m=\u001b[0m \u001b[0mself\u001b[0m\u001b[1;33m.\u001b[0m\u001b[0m_aggregate\u001b[0m\u001b[1;33m(\u001b[0m\u001b[0marg\u001b[0m\u001b[1;33m,\u001b[0m \u001b[0m_level\u001b[0m\u001b[1;33m=\u001b[0m\u001b[0m_level\u001b[0m\u001b[1;33m,\u001b[0m \u001b[1;33m*\u001b[0m\u001b[0margs\u001b[0m\u001b[1;33m,\u001b[0m \u001b[1;33m**\u001b[0m\u001b[0mkwargs\u001b[0m\u001b[1;33m)\u001b[0m\u001b[1;33m\u001b[0m\u001b[0m\n\u001b[0m\u001b[0;32m   4090\u001b[0m         \u001b[1;32mif\u001b[0m \u001b[0mhow\u001b[0m \u001b[1;32mis\u001b[0m \u001b[1;32mNone\u001b[0m\u001b[1;33m:\u001b[0m\u001b[1;33m\u001b[0m\u001b[0m\n\u001b[0;32m   4091\u001b[0m             \u001b[1;32mreturn\u001b[0m \u001b[0mresult\u001b[0m\u001b[1;33m\u001b[0m\u001b[0m\n",
      "\u001b[1;32mc:\\users\\jacke\\appdata\\local\\programs\\python\\python36-32\\lib\\site-packages\\pandas\\core\\base.py\u001b[0m in \u001b[0;36m_aggregate\u001b[1;34m(self, arg, *args, **kwargs)\u001b[0m\n\u001b[0;32m    488\u001b[0m \u001b[1;33m\u001b[0m\u001b[0m\n\u001b[0;32m    489\u001b[0m                 \u001b[1;32mtry\u001b[0m\u001b[1;33m:\u001b[0m\u001b[1;33m\u001b[0m\u001b[0m\n\u001b[1;32m--> 490\u001b[1;33m                     \u001b[0mresult\u001b[0m \u001b[1;33m=\u001b[0m \u001b[0m_agg\u001b[0m\u001b[1;33m(\u001b[0m\u001b[0marg\u001b[0m\u001b[1;33m,\u001b[0m \u001b[0m_agg_1dim\u001b[0m\u001b[1;33m)\u001b[0m\u001b[1;33m\u001b[0m\u001b[0m\n\u001b[0m\u001b[0;32m    491\u001b[0m                 \u001b[1;32mexcept\u001b[0m \u001b[0mSpecificationError\u001b[0m\u001b[1;33m:\u001b[0m\u001b[1;33m\u001b[0m\u001b[0m\n\u001b[0;32m    492\u001b[0m \u001b[1;33m\u001b[0m\u001b[0m\n",
      "\u001b[1;32mc:\\users\\jacke\\appdata\\local\\programs\\python\\python36-32\\lib\\site-packages\\pandas\\core\\base.py\u001b[0m in \u001b[0;36m_agg\u001b[1;34m(arg, func)\u001b[0m\n\u001b[0;32m    439\u001b[0m                 \u001b[0mresult\u001b[0m \u001b[1;33m=\u001b[0m \u001b[0mcompat\u001b[0m\u001b[1;33m.\u001b[0m\u001b[0mOrderedDict\u001b[0m\u001b[1;33m(\u001b[0m\u001b[1;33m)\u001b[0m\u001b[1;33m\u001b[0m\u001b[0m\n\u001b[0;32m    440\u001b[0m                 \u001b[1;32mfor\u001b[0m \u001b[0mfname\u001b[0m\u001b[1;33m,\u001b[0m \u001b[0magg_how\u001b[0m \u001b[1;32min\u001b[0m \u001b[0mcompat\u001b[0m\u001b[1;33m.\u001b[0m\u001b[0miteritems\u001b[0m\u001b[1;33m(\u001b[0m\u001b[0marg\u001b[0m\u001b[1;33m)\u001b[0m\u001b[1;33m:\u001b[0m\u001b[1;33m\u001b[0m\u001b[0m\n\u001b[1;32m--> 441\u001b[1;33m                     \u001b[0mresult\u001b[0m\u001b[1;33m[\u001b[0m\u001b[0mfname\u001b[0m\u001b[1;33m]\u001b[0m \u001b[1;33m=\u001b[0m \u001b[0mfunc\u001b[0m\u001b[1;33m(\u001b[0m\u001b[0mfname\u001b[0m\u001b[1;33m,\u001b[0m \u001b[0magg_how\u001b[0m\u001b[1;33m)\u001b[0m\u001b[1;33m\u001b[0m\u001b[0m\n\u001b[0m\u001b[0;32m    442\u001b[0m                 \u001b[1;32mreturn\u001b[0m \u001b[0mresult\u001b[0m\u001b[1;33m\u001b[0m\u001b[0m\n\u001b[0;32m    443\u001b[0m \u001b[1;33m\u001b[0m\u001b[0m\n",
      "\u001b[1;32mc:\\users\\jacke\\appdata\\local\\programs\\python\\python36-32\\lib\\site-packages\\pandas\\core\\base.py\u001b[0m in \u001b[0;36m_agg_1dim\u001b[1;34m(name, how, subset)\u001b[0m\n\u001b[0;32m    422\u001b[0m                     raise SpecificationError(\"nested dictionary is ambiguous \"\n\u001b[0;32m    423\u001b[0m                                              \"in aggregation\")\n\u001b[1;32m--> 424\u001b[1;33m                 \u001b[1;32mreturn\u001b[0m \u001b[0mcolg\u001b[0m\u001b[1;33m.\u001b[0m\u001b[0maggregate\u001b[0m\u001b[1;33m(\u001b[0m\u001b[0mhow\u001b[0m\u001b[1;33m,\u001b[0m \u001b[0m_level\u001b[0m\u001b[1;33m=\u001b[0m\u001b[1;33m(\u001b[0m\u001b[0m_level\u001b[0m \u001b[1;32mor\u001b[0m \u001b[1;36m0\u001b[0m\u001b[1;33m)\u001b[0m \u001b[1;33m+\u001b[0m \u001b[1;36m1\u001b[0m\u001b[1;33m)\u001b[0m\u001b[1;33m\u001b[0m\u001b[0m\n\u001b[0m\u001b[0;32m    425\u001b[0m \u001b[1;33m\u001b[0m\u001b[0m\n\u001b[0;32m    426\u001b[0m             \u001b[1;32mdef\u001b[0m \u001b[0m_agg_2dim\u001b[0m\u001b[1;33m(\u001b[0m\u001b[0mname\u001b[0m\u001b[1;33m,\u001b[0m \u001b[0mhow\u001b[0m\u001b[1;33m)\u001b[0m\u001b[1;33m:\u001b[0m\u001b[1;33m\u001b[0m\u001b[0m\n",
      "\u001b[1;32mc:\\users\\jacke\\appdata\\local\\programs\\python\\python36-32\\lib\\site-packages\\pandas\\core\\groupby\\groupby.py\u001b[0m in \u001b[0;36maggregate\u001b[1;34m(self, func_or_funcs, *args, **kwargs)\u001b[0m\n\u001b[0;32m   3483\u001b[0m             \u001b[1;31m# but not the class list / tuple itself.\u001b[0m\u001b[1;33m\u001b[0m\u001b[1;33m\u001b[0m\u001b[0m\n\u001b[0;32m   3484\u001b[0m             ret = self._aggregate_multiple_funcs(func_or_funcs,\n\u001b[1;32m-> 3485\u001b[1;33m                                                  (_level or 0) + 1)\n\u001b[0m\u001b[0;32m   3486\u001b[0m         \u001b[1;32melse\u001b[0m\u001b[1;33m:\u001b[0m\u001b[1;33m\u001b[0m\u001b[0m\n\u001b[0;32m   3487\u001b[0m             \u001b[0mcyfunc\u001b[0m \u001b[1;33m=\u001b[0m \u001b[0mself\u001b[0m\u001b[1;33m.\u001b[0m\u001b[0m_is_cython_func\u001b[0m\u001b[1;33m(\u001b[0m\u001b[0mfunc_or_funcs\u001b[0m\u001b[1;33m)\u001b[0m\u001b[1;33m\u001b[0m\u001b[0m\n",
      "\u001b[1;32mc:\\users\\jacke\\appdata\\local\\programs\\python\\python36-32\\lib\\site-packages\\pandas\\core\\groupby\\groupby.py\u001b[0m in \u001b[0;36m_aggregate_multiple_funcs\u001b[1;34m(self, arg, _level)\u001b[0m\n\u001b[0;32m   3556\u001b[0m                 \u001b[0mobj\u001b[0m\u001b[1;33m.\u001b[0m\u001b[0m_reset_cache\u001b[0m\u001b[1;33m(\u001b[0m\u001b[1;33m)\u001b[0m\u001b[1;33m\u001b[0m\u001b[0m\n\u001b[0;32m   3557\u001b[0m                 \u001b[0mobj\u001b[0m\u001b[1;33m.\u001b[0m\u001b[0m_selection\u001b[0m \u001b[1;33m=\u001b[0m \u001b[0mname\u001b[0m\u001b[1;33m\u001b[0m\u001b[0m\n\u001b[1;32m-> 3558\u001b[1;33m             \u001b[0mresults\u001b[0m\u001b[1;33m[\u001b[0m\u001b[0mname\u001b[0m\u001b[1;33m]\u001b[0m \u001b[1;33m=\u001b[0m \u001b[0mobj\u001b[0m\u001b[1;33m.\u001b[0m\u001b[0maggregate\u001b[0m\u001b[1;33m(\u001b[0m\u001b[0mfunc\u001b[0m\u001b[1;33m)\u001b[0m\u001b[1;33m\u001b[0m\u001b[0m\n\u001b[0m\u001b[0;32m   3559\u001b[0m \u001b[1;33m\u001b[0m\u001b[0m\n\u001b[0;32m   3560\u001b[0m         if isinstance(list(compat.itervalues(results))[0],\n",
      "\u001b[1;32mc:\\users\\jacke\\appdata\\local\\programs\\python\\python36-32\\lib\\site-packages\\pandas\\core\\groupby\\groupby.py\u001b[0m in \u001b[0;36maggregate\u001b[1;34m(self, func_or_funcs, *args, **kwargs)\u001b[0m\n\u001b[0;32m   3477\u001b[0m         \u001b[0m_level\u001b[0m \u001b[1;33m=\u001b[0m \u001b[0mkwargs\u001b[0m\u001b[1;33m.\u001b[0m\u001b[0mpop\u001b[0m\u001b[1;33m(\u001b[0m\u001b[1;34m'_level'\u001b[0m\u001b[1;33m,\u001b[0m \u001b[1;32mNone\u001b[0m\u001b[1;33m)\u001b[0m\u001b[1;33m\u001b[0m\u001b[0m\n\u001b[0;32m   3478\u001b[0m         \u001b[1;32mif\u001b[0m \u001b[0misinstance\u001b[0m\u001b[1;33m(\u001b[0m\u001b[0mfunc_or_funcs\u001b[0m\u001b[1;33m,\u001b[0m \u001b[0mcompat\u001b[0m\u001b[1;33m.\u001b[0m\u001b[0mstring_types\u001b[0m\u001b[1;33m)\u001b[0m\u001b[1;33m:\u001b[0m\u001b[1;33m\u001b[0m\u001b[0m\n\u001b[1;32m-> 3479\u001b[1;33m             \u001b[1;32mreturn\u001b[0m \u001b[0mgetattr\u001b[0m\u001b[1;33m(\u001b[0m\u001b[0mself\u001b[0m\u001b[1;33m,\u001b[0m \u001b[0mfunc_or_funcs\u001b[0m\u001b[1;33m)\u001b[0m\u001b[1;33m(\u001b[0m\u001b[1;33m*\u001b[0m\u001b[0margs\u001b[0m\u001b[1;33m,\u001b[0m \u001b[1;33m**\u001b[0m\u001b[0mkwargs\u001b[0m\u001b[1;33m)\u001b[0m\u001b[1;33m\u001b[0m\u001b[0m\n\u001b[0m\u001b[0;32m   3480\u001b[0m \u001b[1;33m\u001b[0m\u001b[0m\n\u001b[0;32m   3481\u001b[0m         \u001b[1;32mif\u001b[0m \u001b[0misinstance\u001b[0m\u001b[1;33m(\u001b[0m\u001b[0mfunc_or_funcs\u001b[0m\u001b[1;33m,\u001b[0m \u001b[0mcollections\u001b[0m\u001b[1;33m.\u001b[0m\u001b[0mIterable\u001b[0m\u001b[1;33m)\u001b[0m\u001b[1;33m:\u001b[0m\u001b[1;33m\u001b[0m\u001b[0m\n",
      "\u001b[1;32mc:\\users\\jacke\\appdata\\local\\programs\\python\\python36-32\\lib\\site-packages\\pandas\\core\\groupby\\groupby.py\u001b[0m in \u001b[0;36mmean\u001b[1;34m(self, *args, **kwargs)\u001b[0m\n\u001b[0;32m   1304\u001b[0m         \u001b[0mnv\u001b[0m\u001b[1;33m.\u001b[0m\u001b[0mvalidate_groupby_func\u001b[0m\u001b[1;33m(\u001b[0m\u001b[1;34m'mean'\u001b[0m\u001b[1;33m,\u001b[0m \u001b[0margs\u001b[0m\u001b[1;33m,\u001b[0m \u001b[0mkwargs\u001b[0m\u001b[1;33m,\u001b[0m \u001b[1;33m[\u001b[0m\u001b[1;34m'numeric_only'\u001b[0m\u001b[1;33m]\u001b[0m\u001b[1;33m)\u001b[0m\u001b[1;33m\u001b[0m\u001b[0m\n\u001b[0;32m   1305\u001b[0m         \u001b[1;32mtry\u001b[0m\u001b[1;33m:\u001b[0m\u001b[1;33m\u001b[0m\u001b[0m\n\u001b[1;32m-> 1306\u001b[1;33m             \u001b[1;32mreturn\u001b[0m \u001b[0mself\u001b[0m\u001b[1;33m.\u001b[0m\u001b[0m_cython_agg_general\u001b[0m\u001b[1;33m(\u001b[0m\u001b[1;34m'mean'\u001b[0m\u001b[1;33m,\u001b[0m \u001b[1;33m**\u001b[0m\u001b[0mkwargs\u001b[0m\u001b[1;33m)\u001b[0m\u001b[1;33m\u001b[0m\u001b[0m\n\u001b[0m\u001b[0;32m   1307\u001b[0m         \u001b[1;32mexcept\u001b[0m \u001b[0mGroupByError\u001b[0m\u001b[1;33m:\u001b[0m\u001b[1;33m\u001b[0m\u001b[0m\n\u001b[0;32m   1308\u001b[0m             \u001b[1;32mraise\u001b[0m\u001b[1;33m\u001b[0m\u001b[0m\n",
      "\u001b[1;32mc:\\users\\jacke\\appdata\\local\\programs\\python\\python36-32\\lib\\site-packages\\pandas\\core\\groupby\\groupby.py\u001b[0m in \u001b[0;36m_cython_agg_general\u001b[1;34m(self, how, alt, numeric_only, min_count)\u001b[0m\n\u001b[0;32m   1054\u001b[0m \u001b[1;33m\u001b[0m\u001b[0m\n\u001b[0;32m   1055\u001b[0m         \u001b[1;32mif\u001b[0m \u001b[0mlen\u001b[0m\u001b[1;33m(\u001b[0m\u001b[0moutput\u001b[0m\u001b[1;33m)\u001b[0m \u001b[1;33m==\u001b[0m \u001b[1;36m0\u001b[0m\u001b[1;33m:\u001b[0m\u001b[1;33m\u001b[0m\u001b[0m\n\u001b[1;32m-> 1056\u001b[1;33m             \u001b[1;32mraise\u001b[0m \u001b[0mDataError\u001b[0m\u001b[1;33m(\u001b[0m\u001b[1;34m'No numeric types to aggregate'\u001b[0m\u001b[1;33m)\u001b[0m\u001b[1;33m\u001b[0m\u001b[0m\n\u001b[0m\u001b[0;32m   1057\u001b[0m \u001b[1;33m\u001b[0m\u001b[0m\n\u001b[0;32m   1058\u001b[0m         \u001b[1;32mreturn\u001b[0m \u001b[0mself\u001b[0m\u001b[1;33m.\u001b[0m\u001b[0m_wrap_aggregated_output\u001b[0m\u001b[1;33m(\u001b[0m\u001b[0moutput\u001b[0m\u001b[1;33m,\u001b[0m \u001b[0mnames\u001b[0m\u001b[1;33m)\u001b[0m\u001b[1;33m\u001b[0m\u001b[0m\n",
      "\u001b[1;31mDataError\u001b[0m: No numeric types to aggregate"
     ]
    }
   ],
   "source": [
    "#Datos para evaluaciones por operador y mes con escala modificada\n",
    "df1=df.groupby(['carrier', 'month'], as_index=False).agg({'evaluation_mod':['mean']})\n",
    "df2=df.groupby(['month'], as_index=False).agg({'evaluation_mod':['mean']})\n",
    "operadores=df.carrier.unique()\n",
    "tiempos=[]\n",
    "observaciones=[]\n",
    "leyenda = ['Promedio Minutos Marzo', 'Promedio Minutos Abril', 'Promedio Minutos Mayo']\n",
    "colors = ['#9E9E9E', '#757575', '#7DC242']\n",
    "data = [[0 for _ in range(len(Meses))] for _ in range(len(operadores)+1)] \n",
    "\n",
    "observacion = df[['duration(min)']].count().values[0]\n",
    "observaciones.append((round(observacion, 1)))\n",
    "\n",
    "percentages = []       \n",
    "for max_value in Meses:\n",
    "    df3=df2[(df2['month']==max_value)]['evaluation_mod']\n",
    "    value=df3.iat[0,0]\n",
    "    value=round(value,1)\n",
    "    percentages.append(value)\n",
    "    \n",
    "for index, percentage in enumerate(percentages):\n",
    "    data[0][index] = percentage \n",
    "\n",
    "for month_index, i in enumerate(operadores):\n",
    "    percentages = []\n",
    "    \n",
    "    for max_value in Meses:\n",
    "        df3=df1[(df1['month']==max_value) & (df1['carrier']==i)]['evaluation_mod']\n",
    "        value=df3.iat[0,0]\n",
    "        value=round(value,1)\n",
    "        percentages.append(value)\n",
    "        \n",
    "    for index, percentage in enumerate(percentages):\n",
    "        data[month_index+1][index] = percentage \n",
    "        \n",
    "    observacion = df[(df['carrier']==i)]['duration(min)'].count()\n",
    "    observaciones.append((round(observacion, 1)))\n",
    "\n",
    "\n",
    "operadores=['Total']\n",
    "for i in list(df.carrier.unique()):\n",
    "    operadores.append(i)"
   ]
  },
  {
   "cell_type": "code",
   "execution_count": 57,
   "metadata": {},
   "outputs": [
    {
     "data": {
      "image/png": "[encoded data removed]",
      "text/plain": [
       "<Figure size 864x288 with 1 Axes>"
      ]
     },
     "metadata": {},
     "output_type": "display_data"
    }
   ],
   "source": [
    "make_chart3(operadores, leyenda, data, colors, observaciones)"
   ]
  },
  {
   "cell_type": "code",
   "execution_count": 58,
   "metadata": {},
   "outputs": [
    {
     "name": "stdout",
     "output_type": "stream",
     "text": [
      "2.2 0.5 2.7 8 [0.  2.7 5.4]\n"
     ]
    },
    {
     "data": {
      "image/png": "[encoded data removed]",
      "text/plain": [
       "<Figure size 432x288 with 1 Axes>"
      ]
     },
     "metadata": {},
     "output_type": "display_data"
    }
   ],
   "source": [
    "from operator import add\n",
    "\n",
    "import matplotlib.pyplot as plt\n",
    "import numpy as np\n",
    "\n",
    "def make_horizontal_stacked_bars(legend, data, names, colors):\n",
    "    \"\"\"\n",
    "    example of inputs:\n",
    "        legend = ['Punta mañana', 'Valle', 'Punta tarde']\n",
    "        data = [[10, 10, 10], [30, 50, 60], [60, 40, 30]]\n",
    "        names = [\"comuna 1\", \"comuna 2\", \"comuna3\"]\n",
    "        colors = ['#539e11', '#7DC242', '#f49f5a']\n",
    "    \"\"\"\n",
    "    # sanity checks\n",
    "    assert len(legend) == len(data)\n",
    "    assert len(colors) == len(legend)\n",
    "    for row in data:\n",
    "        assert len(row) == len(names)\n",
    "    \n",
    "    ax = plt.subplot(111)\n",
    "    \n",
    "    bar_width = 2.2\n",
    "    separator_width = 0.5\n",
    "    start = 0\n",
    "    step = bar_width + separator_width\n",
    "    stop = int(step * len(names))\n",
    "    y_base_positions = np.arange(start, stop, step)\n",
    "    print(bar_width, separator_width, step, stop, y_base_positions)\n",
    "\n",
    "    rectangles = []\n",
    "    x_previous_position = [0 for _ in range(len(names))]\n",
    "    previous_values = [0 for _ in range(len(names))]\n",
    "    for index, (row, color) in enumerate(zip(data, colors)):\n",
    "        chart = ax.barh(y_base_positions, width=row, left=x_previous_position, color=color, height=bar_width)\n",
    "        rectangles.append(chart[0])\n",
    "        \n",
    "        # values\n",
    "        for column, value in enumerate(row):\n",
    "            ax.text(previous_values[column] + value / 2, y_base_positions[column], str(value) + ' %', color='black', \n",
    "                    horizontalalignment='center', verticalalignment='center')\n",
    "            previous_values[column] += value\n",
    "\n",
    "        x_previous_position = list(map(add, row, x_previous_position)) \n",
    "        \n",
    "    ax.legend(rectangles, legend, loc='center', ncol = len(legend), bbox_to_anchor=(0.5, 1.25))\n",
    "    ax.spines['top'].set_visible(False)\n",
    "    ax.spines['right'].set_visible(False)\n",
    "    ax.spines['bottom'].set_visible(False)\n",
    "    ax.axes.get_xaxis().set_visible(False)\n",
    "    \n",
    "    #plt.ylabel('Porcentaje')\n",
    "    #plt.title('Tiempo de espera', loc='left')\n",
    "    ax.set_yticklabels(names)\n",
    "    ax.set_yticks(y_base_positions)\n",
    "    \n",
    "    plt.show()\n",
    "########################################################################\n",
    "# EXAMPLE\n",
    "########################################################################\n",
    "\n",
    "\n",
    "legend = ['Punta mañana', 'Valle', 'Punta tarde']\n",
    "data = [[10, 10, 10], [30, 50, 60], [60, 40, 30]]\n",
    "names = [\"comuna 1\", \"comuna 2\", \"comuna3\"]\n",
    "colors = ['#539e11', '#7DC242', '#f49f5a']\n",
    "\n",
    "make_horizontal_stacked_bars(legend, data, names, colors)"
   ]
  },
  {
   "cell_type": "code",
   "execution_count": 59,
   "metadata": {},
   "outputs": [],
   "source": [
    "df['periodo']=df[['halfHourPeriod']].apply(lambda x: 'Punta Mañana' if ((x[0]<='08:30:00') & (x[0]>='06:30:00')) else ('Punta Tarde' if ((x[0]<='19:30:00') & (x[0]>='17:30:00')) else ( 'Nocturno'  if (((x[0]>'22:00:00') & (x[0]<'24:59:59')) | ((x[0]>='01:00:00') & (x[0]<'05:30:00'))) else  'Valle')), axis=1)"
   ]
  },
  {
   "cell_type": "code",
   "execution_count": 60,
   "metadata": {},
   "outputs": [
    {
     "ename": "DataError",
     "evalue": "No numeric types to aggregate",
     "output_type": "error",
     "traceback": [
      "\u001b[1;31m---------------------------------------------------------------------------\u001b[0m",
      "\u001b[1;31mDataError\u001b[0m                                 Traceback (most recent call last)",
      "\u001b[1;32m<ipython-input-60-acf1b51ba1eb>\u001b[0m in \u001b[0;36m<module>\u001b[1;34m()\u001b[0m\n\u001b[1;32m----> 1\u001b[1;33m \u001b[0mdf\u001b[0m\u001b[1;33m.\u001b[0m\u001b[0mgroupby\u001b[0m\u001b[1;33m(\u001b[0m\u001b[1;33m[\u001b[0m\u001b[1;34m'carrier'\u001b[0m\u001b[1;33m,\u001b[0m \u001b[1;34m'periodo'\u001b[0m\u001b[1;33m]\u001b[0m\u001b[1;33m,\u001b[0m \u001b[0mas_index\u001b[0m\u001b[1;33m=\u001b[0m\u001b[1;32mFalse\u001b[0m\u001b[1;33m)\u001b[0m\u001b[1;33m.\u001b[0m\u001b[0magg\u001b[0m\u001b[1;33m(\u001b[0m\u001b[1;33m{\u001b[0m\u001b[1;34m'evaluation_mod'\u001b[0m\u001b[1;33m:\u001b[0m\u001b[1;33m[\u001b[0m\u001b[1;34m'count'\u001b[0m\u001b[1;33m,\u001b[0m \u001b[1;34m'mean'\u001b[0m\u001b[1;33m]\u001b[0m\u001b[1;33m}\u001b[0m\u001b[1;33m)\u001b[0m\u001b[1;33m\u001b[0m\u001b[0m\n\u001b[0m",
      "\u001b[1;32mc:\\users\\jacke\\appdata\\local\\programs\\python\\python36-32\\lib\\site-packages\\pandas\\core\\groupby\\groupby.py\u001b[0m in \u001b[0;36maggregate\u001b[1;34m(self, arg, *args, **kwargs)\u001b[0m\n\u001b[0;32m   4656\u001b[0m         axis=''))\n\u001b[0;32m   4657\u001b[0m     \u001b[1;32mdef\u001b[0m \u001b[0maggregate\u001b[0m\u001b[1;33m(\u001b[0m\u001b[0mself\u001b[0m\u001b[1;33m,\u001b[0m \u001b[0marg\u001b[0m\u001b[1;33m,\u001b[0m \u001b[1;33m*\u001b[0m\u001b[0margs\u001b[0m\u001b[1;33m,\u001b[0m \u001b[1;33m**\u001b[0m\u001b[0mkwargs\u001b[0m\u001b[1;33m)\u001b[0m\u001b[1;33m:\u001b[0m\u001b[1;33m\u001b[0m\u001b[0m\n\u001b[1;32m-> 4658\u001b[1;33m         \u001b[1;32mreturn\u001b[0m \u001b[0msuper\u001b[0m\u001b[1;33m(\u001b[0m\u001b[0mDataFrameGroupBy\u001b[0m\u001b[1;33m,\u001b[0m \u001b[0mself\u001b[0m\u001b[1;33m)\u001b[0m\u001b[1;33m.\u001b[0m\u001b[0maggregate\u001b[0m\u001b[1;33m(\u001b[0m\u001b[0marg\u001b[0m\u001b[1;33m,\u001b[0m \u001b[1;33m*\u001b[0m\u001b[0margs\u001b[0m\u001b[1;33m,\u001b[0m \u001b[1;33m**\u001b[0m\u001b[0mkwargs\u001b[0m\u001b[1;33m)\u001b[0m\u001b[1;33m\u001b[0m\u001b[0m\n\u001b[0m\u001b[0;32m   4659\u001b[0m \u001b[1;33m\u001b[0m\u001b[0m\n\u001b[0;32m   4660\u001b[0m     \u001b[0magg\u001b[0m \u001b[1;33m=\u001b[0m \u001b[0maggregate\u001b[0m\u001b[1;33m\u001b[0m\u001b[0m\n",
      "\u001b[1;32mc:\\users\\jacke\\appdata\\local\\programs\\python\\python36-32\\lib\\site-packages\\pandas\\core\\groupby\\groupby.py\u001b[0m in \u001b[0;36maggregate\u001b[1;34m(self, arg, *args, **kwargs)\u001b[0m\n\u001b[0;32m   4087\u001b[0m \u001b[1;33m\u001b[0m\u001b[0m\n\u001b[0;32m   4088\u001b[0m         \u001b[0m_level\u001b[0m \u001b[1;33m=\u001b[0m \u001b[0mkwargs\u001b[0m\u001b[1;33m.\u001b[0m\u001b[0mpop\u001b[0m\u001b[1;33m(\u001b[0m\u001b[1;34m'_level'\u001b[0m\u001b[1;33m,\u001b[0m \u001b[1;32mNone\u001b[0m\u001b[1;33m)\u001b[0m\u001b[1;33m\u001b[0m\u001b[0m\n\u001b[1;32m-> 4089\u001b[1;33m         \u001b[0mresult\u001b[0m\u001b[1;33m,\u001b[0m \u001b[0mhow\u001b[0m \u001b[1;33m=\u001b[0m \u001b[0mself\u001b[0m\u001b[1;33m.\u001b[0m\u001b[0m_aggregate\u001b[0m\u001b[1;33m(\u001b[0m\u001b[0marg\u001b[0m\u001b[1;33m,\u001b[0m \u001b[0m_level\u001b[0m\u001b[1;33m=\u001b[0m\u001b[0m_level\u001b[0m\u001b[1;33m,\u001b[0m \u001b[1;33m*\u001b[0m\u001b[0margs\u001b[0m\u001b[1;33m,\u001b[0m \u001b[1;33m**\u001b[0m\u001b[0mkwargs\u001b[0m\u001b[1;33m)\u001b[0m\u001b[1;33m\u001b[0m\u001b[0m\n\u001b[0m\u001b[0;32m   4090\u001b[0m         \u001b[1;32mif\u001b[0m \u001b[0mhow\u001b[0m \u001b[1;32mis\u001b[0m \u001b[1;32mNone\u001b[0m\u001b[1;33m:\u001b[0m\u001b[1;33m\u001b[0m\u001b[0m\n\u001b[0;32m   4091\u001b[0m             \u001b[1;32mreturn\u001b[0m \u001b[0mresult\u001b[0m\u001b[1;33m\u001b[0m\u001b[0m\n",
      "\u001b[1;32mc:\\users\\jacke\\appdata\\local\\programs\\python\\python36-32\\lib\\site-packages\\pandas\\core\\base.py\u001b[0m in \u001b[0;36m_aggregate\u001b[1;34m(self, arg, *args, **kwargs)\u001b[0m\n\u001b[0;32m    488\u001b[0m \u001b[1;33m\u001b[0m\u001b[0m\n\u001b[0;32m    489\u001b[0m                 \u001b[1;32mtry\u001b[0m\u001b[1;33m:\u001b[0m\u001b[1;33m\u001b[0m\u001b[0m\n\u001b[1;32m--> 490\u001b[1;33m                     \u001b[0mresult\u001b[0m \u001b[1;33m=\u001b[0m \u001b[0m_agg\u001b[0m\u001b[1;33m(\u001b[0m\u001b[0marg\u001b[0m\u001b[1;33m,\u001b[0m \u001b[0m_agg_1dim\u001b[0m\u001b[1;33m)\u001b[0m\u001b[1;33m\u001b[0m\u001b[0m\n\u001b[0m\u001b[0;32m    491\u001b[0m                 \u001b[1;32mexcept\u001b[0m \u001b[0mSpecificationError\u001b[0m\u001b[1;33m:\u001b[0m\u001b[1;33m\u001b[0m\u001b[0m\n\u001b[0;32m    492\u001b[0m \u001b[1;33m\u001b[0m\u001b[0m\n",
      "\u001b[1;32mc:\\users\\jacke\\appdata\\local\\programs\\python\\python36-32\\lib\\site-packages\\pandas\\core\\base.py\u001b[0m in \u001b[0;36m_agg\u001b[1;34m(arg, func)\u001b[0m\n\u001b[0;32m    439\u001b[0m                 \u001b[0mresult\u001b[0m \u001b[1;33m=\u001b[0m \u001b[0mcompat\u001b[0m\u001b[1;33m.\u001b[0m\u001b[0mOrderedDict\u001b[0m\u001b[1;33m(\u001b[0m\u001b[1;33m)\u001b[0m\u001b[1;33m\u001b[0m\u001b[0m\n\u001b[0;32m    440\u001b[0m                 \u001b[1;32mfor\u001b[0m \u001b[0mfname\u001b[0m\u001b[1;33m,\u001b[0m \u001b[0magg_how\u001b[0m \u001b[1;32min\u001b[0m \u001b[0mcompat\u001b[0m\u001b[1;33m.\u001b[0m\u001b[0miteritems\u001b[0m\u001b[1;33m(\u001b[0m\u001b[0marg\u001b[0m\u001b[1;33m)\u001b[0m\u001b[1;33m:\u001b[0m\u001b[1;33m\u001b[0m\u001b[0m\n\u001b[1;32m--> 441\u001b[1;33m                     \u001b[0mresult\u001b[0m\u001b[1;33m[\u001b[0m\u001b[0mfname\u001b[0m\u001b[1;33m]\u001b[0m \u001b[1;33m=\u001b[0m \u001b[0mfunc\u001b[0m\u001b[1;33m(\u001b[0m\u001b[0mfname\u001b[0m\u001b[1;33m,\u001b[0m \u001b[0magg_how\u001b[0m\u001b[1;33m)\u001b[0m\u001b[1;33m\u001b[0m\u001b[0m\n\u001b[0m\u001b[0;32m    442\u001b[0m                 \u001b[1;32mreturn\u001b[0m \u001b[0mresult\u001b[0m\u001b[1;33m\u001b[0m\u001b[0m\n\u001b[0;32m    443\u001b[0m \u001b[1;33m\u001b[0m\u001b[0m\n",
      "\u001b[1;32mc:\\users\\jacke\\appdata\\local\\programs\\python\\python36-32\\lib\\site-packages\\pandas\\core\\base.py\u001b[0m in \u001b[0;36m_agg_1dim\u001b[1;34m(name, how, subset)\u001b[0m\n\u001b[0;32m    422\u001b[0m                     raise SpecificationError(\"nested dictionary is ambiguous \"\n\u001b[0;32m    423\u001b[0m                                              \"in aggregation\")\n\u001b[1;32m--> 424\u001b[1;33m                 \u001b[1;32mreturn\u001b[0m \u001b[0mcolg\u001b[0m\u001b[1;33m.\u001b[0m\u001b[0maggregate\u001b[0m\u001b[1;33m(\u001b[0m\u001b[0mhow\u001b[0m\u001b[1;33m,\u001b[0m \u001b[0m_level\u001b[0m\u001b[1;33m=\u001b[0m\u001b[1;33m(\u001b[0m\u001b[0m_level\u001b[0m \u001b[1;32mor\u001b[0m \u001b[1;36m0\u001b[0m\u001b[1;33m)\u001b[0m \u001b[1;33m+\u001b[0m \u001b[1;36m1\u001b[0m\u001b[1;33m)\u001b[0m\u001b[1;33m\u001b[0m\u001b[0m\n\u001b[0m\u001b[0;32m    425\u001b[0m \u001b[1;33m\u001b[0m\u001b[0m\n\u001b[0;32m    426\u001b[0m             \u001b[1;32mdef\u001b[0m \u001b[0m_agg_2dim\u001b[0m\u001b[1;33m(\u001b[0m\u001b[0mname\u001b[0m\u001b[1;33m,\u001b[0m \u001b[0mhow\u001b[0m\u001b[1;33m)\u001b[0m\u001b[1;33m:\u001b[0m\u001b[1;33m\u001b[0m\u001b[0m\n",
      "\u001b[1;32mc:\\users\\jacke\\appdata\\local\\programs\\python\\python36-32\\lib\\site-packages\\pandas\\core\\groupby\\groupby.py\u001b[0m in \u001b[0;36maggregate\u001b[1;34m(self, func_or_funcs, *args, **kwargs)\u001b[0m\n\u001b[0;32m   3483\u001b[0m             \u001b[1;31m# but not the class list / tuple itself.\u001b[0m\u001b[1;33m\u001b[0m\u001b[1;33m\u001b[0m\u001b[0m\n\u001b[0;32m   3484\u001b[0m             ret = self._aggregate_multiple_funcs(func_or_funcs,\n\u001b[1;32m-> 3485\u001b[1;33m                                                  (_level or 0) + 1)\n\u001b[0m\u001b[0;32m   3486\u001b[0m         \u001b[1;32melse\u001b[0m\u001b[1;33m:\u001b[0m\u001b[1;33m\u001b[0m\u001b[0m\n\u001b[0;32m   3487\u001b[0m             \u001b[0mcyfunc\u001b[0m \u001b[1;33m=\u001b[0m \u001b[0mself\u001b[0m\u001b[1;33m.\u001b[0m\u001b[0m_is_cython_func\u001b[0m\u001b[1;33m(\u001b[0m\u001b[0mfunc_or_funcs\u001b[0m\u001b[1;33m)\u001b[0m\u001b[1;33m\u001b[0m\u001b[0m\n",
      "\u001b[1;32mc:\\users\\jacke\\appdata\\local\\programs\\python\\python36-32\\lib\\site-packages\\pandas\\core\\groupby\\groupby.py\u001b[0m in \u001b[0;36m_aggregate_multiple_funcs\u001b[1;34m(self, arg, _level)\u001b[0m\n\u001b[0;32m   3556\u001b[0m                 \u001b[0mobj\u001b[0m\u001b[1;33m.\u001b[0m\u001b[0m_reset_cache\u001b[0m\u001b[1;33m(\u001b[0m\u001b[1;33m)\u001b[0m\u001b[1;33m\u001b[0m\u001b[0m\n\u001b[0;32m   3557\u001b[0m                 \u001b[0mobj\u001b[0m\u001b[1;33m.\u001b[0m\u001b[0m_selection\u001b[0m \u001b[1;33m=\u001b[0m \u001b[0mname\u001b[0m\u001b[1;33m\u001b[0m\u001b[0m\n\u001b[1;32m-> 3558\u001b[1;33m             \u001b[0mresults\u001b[0m\u001b[1;33m[\u001b[0m\u001b[0mname\u001b[0m\u001b[1;33m]\u001b[0m \u001b[1;33m=\u001b[0m \u001b[0mobj\u001b[0m\u001b[1;33m.\u001b[0m\u001b[0maggregate\u001b[0m\u001b[1;33m(\u001b[0m\u001b[0mfunc\u001b[0m\u001b[1;33m)\u001b[0m\u001b[1;33m\u001b[0m\u001b[0m\n\u001b[0m\u001b[0;32m   3559\u001b[0m \u001b[1;33m\u001b[0m\u001b[0m\n\u001b[0;32m   3560\u001b[0m         if isinstance(list(compat.itervalues(results))[0],\n",
      "\u001b[1;32mc:\\users\\jacke\\appdata\\local\\programs\\python\\python36-32\\lib\\site-packages\\pandas\\core\\groupby\\groupby.py\u001b[0m in \u001b[0;36maggregate\u001b[1;34m(self, func_or_funcs, *args, **kwargs)\u001b[0m\n\u001b[0;32m   3477\u001b[0m         \u001b[0m_level\u001b[0m \u001b[1;33m=\u001b[0m \u001b[0mkwargs\u001b[0m\u001b[1;33m.\u001b[0m\u001b[0mpop\u001b[0m\u001b[1;33m(\u001b[0m\u001b[1;34m'_level'\u001b[0m\u001b[1;33m,\u001b[0m \u001b[1;32mNone\u001b[0m\u001b[1;33m)\u001b[0m\u001b[1;33m\u001b[0m\u001b[0m\n\u001b[0;32m   3478\u001b[0m         \u001b[1;32mif\u001b[0m \u001b[0misinstance\u001b[0m\u001b[1;33m(\u001b[0m\u001b[0mfunc_or_funcs\u001b[0m\u001b[1;33m,\u001b[0m \u001b[0mcompat\u001b[0m\u001b[1;33m.\u001b[0m\u001b[0mstring_types\u001b[0m\u001b[1;33m)\u001b[0m\u001b[1;33m:\u001b[0m\u001b[1;33m\u001b[0m\u001b[0m\n\u001b[1;32m-> 3479\u001b[1;33m             \u001b[1;32mreturn\u001b[0m \u001b[0mgetattr\u001b[0m\u001b[1;33m(\u001b[0m\u001b[0mself\u001b[0m\u001b[1;33m,\u001b[0m \u001b[0mfunc_or_funcs\u001b[0m\u001b[1;33m)\u001b[0m\u001b[1;33m(\u001b[0m\u001b[1;33m*\u001b[0m\u001b[0margs\u001b[0m\u001b[1;33m,\u001b[0m \u001b[1;33m**\u001b[0m\u001b[0mkwargs\u001b[0m\u001b[1;33m)\u001b[0m\u001b[1;33m\u001b[0m\u001b[0m\n\u001b[0m\u001b[0;32m   3480\u001b[0m \u001b[1;33m\u001b[0m\u001b[0m\n\u001b[0;32m   3481\u001b[0m         \u001b[1;32mif\u001b[0m \u001b[0misinstance\u001b[0m\u001b[1;33m(\u001b[0m\u001b[0mfunc_or_funcs\u001b[0m\u001b[1;33m,\u001b[0m \u001b[0mcollections\u001b[0m\u001b[1;33m.\u001b[0m\u001b[0mIterable\u001b[0m\u001b[1;33m)\u001b[0m\u001b[1;33m:\u001b[0m\u001b[1;33m\u001b[0m\u001b[0m\n",
      "\u001b[1;32mc:\\users\\jacke\\appdata\\local\\programs\\python\\python36-32\\lib\\site-packages\\pandas\\core\\groupby\\groupby.py\u001b[0m in \u001b[0;36mmean\u001b[1;34m(self, *args, **kwargs)\u001b[0m\n\u001b[0;32m   1304\u001b[0m         \u001b[0mnv\u001b[0m\u001b[1;33m.\u001b[0m\u001b[0mvalidate_groupby_func\u001b[0m\u001b[1;33m(\u001b[0m\u001b[1;34m'mean'\u001b[0m\u001b[1;33m,\u001b[0m \u001b[0margs\u001b[0m\u001b[1;33m,\u001b[0m \u001b[0mkwargs\u001b[0m\u001b[1;33m,\u001b[0m \u001b[1;33m[\u001b[0m\u001b[1;34m'numeric_only'\u001b[0m\u001b[1;33m]\u001b[0m\u001b[1;33m)\u001b[0m\u001b[1;33m\u001b[0m\u001b[0m\n\u001b[0;32m   1305\u001b[0m         \u001b[1;32mtry\u001b[0m\u001b[1;33m:\u001b[0m\u001b[1;33m\u001b[0m\u001b[0m\n\u001b[1;32m-> 1306\u001b[1;33m             \u001b[1;32mreturn\u001b[0m \u001b[0mself\u001b[0m\u001b[1;33m.\u001b[0m\u001b[0m_cython_agg_general\u001b[0m\u001b[1;33m(\u001b[0m\u001b[1;34m'mean'\u001b[0m\u001b[1;33m,\u001b[0m \u001b[1;33m**\u001b[0m\u001b[0mkwargs\u001b[0m\u001b[1;33m)\u001b[0m\u001b[1;33m\u001b[0m\u001b[0m\n\u001b[0m\u001b[0;32m   1307\u001b[0m         \u001b[1;32mexcept\u001b[0m \u001b[0mGroupByError\u001b[0m\u001b[1;33m:\u001b[0m\u001b[1;33m\u001b[0m\u001b[0m\n\u001b[0;32m   1308\u001b[0m             \u001b[1;32mraise\u001b[0m\u001b[1;33m\u001b[0m\u001b[0m\n",
      "\u001b[1;32mc:\\users\\jacke\\appdata\\local\\programs\\python\\python36-32\\lib\\site-packages\\pandas\\core\\groupby\\groupby.py\u001b[0m in \u001b[0;36m_cython_agg_general\u001b[1;34m(self, how, alt, numeric_only, min_count)\u001b[0m\n\u001b[0;32m   1054\u001b[0m \u001b[1;33m\u001b[0m\u001b[0m\n\u001b[0;32m   1055\u001b[0m         \u001b[1;32mif\u001b[0m \u001b[0mlen\u001b[0m\u001b[1;33m(\u001b[0m\u001b[0moutput\u001b[0m\u001b[1;33m)\u001b[0m \u001b[1;33m==\u001b[0m \u001b[1;36m0\u001b[0m\u001b[1;33m:\u001b[0m\u001b[1;33m\u001b[0m\u001b[0m\n\u001b[1;32m-> 1056\u001b[1;33m             \u001b[1;32mraise\u001b[0m \u001b[0mDataError\u001b[0m\u001b[1;33m(\u001b[0m\u001b[1;34m'No numeric types to aggregate'\u001b[0m\u001b[1;33m)\u001b[0m\u001b[1;33m\u001b[0m\u001b[0m\n\u001b[0m\u001b[0;32m   1057\u001b[0m \u001b[1;33m\u001b[0m\u001b[0m\n\u001b[0;32m   1058\u001b[0m         \u001b[1;32mreturn\u001b[0m \u001b[0mself\u001b[0m\u001b[1;33m.\u001b[0m\u001b[0m_wrap_aggregated_output\u001b[0m\u001b[1;33m(\u001b[0m\u001b[0moutput\u001b[0m\u001b[1;33m,\u001b[0m \u001b[0mnames\u001b[0m\u001b[1;33m)\u001b[0m\u001b[1;33m\u001b[0m\u001b[0m\n",
      "\u001b[1;31mDataError\u001b[0m: No numeric types to aggregate"
     ]
    }
   ],
   "source": [
    "df.groupby(['carrier', 'periodo'], as_index=False).agg({'evaluation_mod':['count', 'mean']})"
   ]
  },
  {
   "cell_type": "code",
   "execution_count": 74,
   "metadata": {},
   "outputs": [
    {
     "ename": "IndexError",
     "evalue": "index 0 is out of bounds for axis 0 with size 0",
     "output_type": "error",
     "traceback": [
      "\u001b[1;31m---------------------------------------------------------------------------\u001b[0m",
      "\u001b[1;31mIndexError\u001b[0m                                Traceback (most recent call last)",
      "\u001b[1;32m<ipython-input-74-ad272812263b>\u001b[0m in \u001b[0;36m<module>\u001b[1;34m()\u001b[0m\n\u001b[0;32m     16\u001b[0m \u001b[1;32mfor\u001b[0m \u001b[0mmax_value\u001b[0m \u001b[1;32min\u001b[0m \u001b[0mPeriodos\u001b[0m\u001b[1;33m:\u001b[0m\u001b[1;33m\u001b[0m\u001b[0m\n\u001b[0;32m     17\u001b[0m     \u001b[0mdf3\u001b[0m\u001b[1;33m=\u001b[0m\u001b[0mdf2\u001b[0m\u001b[1;33m[\u001b[0m\u001b[1;33m(\u001b[0m\u001b[0mdf2\u001b[0m\u001b[1;33m[\u001b[0m\u001b[1;34m'periodo'\u001b[0m\u001b[1;33m]\u001b[0m\u001b[1;33m==\u001b[0m\u001b[0mmax_value\u001b[0m\u001b[1;33m)\u001b[0m\u001b[1;33m]\u001b[0m\u001b[1;33m[\u001b[0m\u001b[1;34m'evaluation_mod'\u001b[0m\u001b[1;33m]\u001b[0m\u001b[1;33m\u001b[0m\u001b[0m\n\u001b[1;32m---> 18\u001b[1;33m     \u001b[0mvalue\u001b[0m\u001b[1;33m=\u001b[0m\u001b[0mdf3\u001b[0m\u001b[1;33m.\u001b[0m\u001b[0miat\u001b[0m\u001b[1;33m[\u001b[0m\u001b[1;36m0\u001b[0m\u001b[1;33m,\u001b[0m\u001b[1;36m0\u001b[0m\u001b[1;33m]\u001b[0m\u001b[1;33m\u001b[0m\u001b[0m\n\u001b[0m\u001b[0;32m     19\u001b[0m     \u001b[0mvalue\u001b[0m\u001b[1;33m=\u001b[0m\u001b[0mround\u001b[0m\u001b[1;33m(\u001b[0m\u001b[0mvalue\u001b[0m\u001b[1;33m,\u001b[0m\u001b[1;36m1\u001b[0m\u001b[1;33m)\u001b[0m\u001b[1;33m\u001b[0m\u001b[0m\n\u001b[0;32m     20\u001b[0m     \u001b[0mpercentages\u001b[0m\u001b[1;33m.\u001b[0m\u001b[0mappend\u001b[0m\u001b[1;33m(\u001b[0m\u001b[0mvalue\u001b[0m\u001b[1;33m)\u001b[0m\u001b[1;33m\u001b[0m\u001b[0m\n",
      "\u001b[1;32mc:\\users\\jacke\\appdata\\local\\programs\\python\\python36-32\\lib\\site-packages\\pandas\\core\\indexing.py\u001b[0m in \u001b[0;36m__getitem__\u001b[1;34m(self, key)\u001b[0m\n\u001b[0;32m   2140\u001b[0m \u001b[1;33m\u001b[0m\u001b[0m\n\u001b[0;32m   2141\u001b[0m         \u001b[0mkey\u001b[0m \u001b[1;33m=\u001b[0m \u001b[0mself\u001b[0m\u001b[1;33m.\u001b[0m\u001b[0m_convert_key\u001b[0m\u001b[1;33m(\u001b[0m\u001b[0mkey\u001b[0m\u001b[1;33m)\u001b[0m\u001b[1;33m\u001b[0m\u001b[0m\n\u001b[1;32m-> 2142\u001b[1;33m         \u001b[1;32mreturn\u001b[0m \u001b[0mself\u001b[0m\u001b[1;33m.\u001b[0m\u001b[0mobj\u001b[0m\u001b[1;33m.\u001b[0m\u001b[0m_get_value\u001b[0m\u001b[1;33m(\u001b[0m\u001b[1;33m*\u001b[0m\u001b[0mkey\u001b[0m\u001b[1;33m,\u001b[0m \u001b[0mtakeable\u001b[0m\u001b[1;33m=\u001b[0m\u001b[0mself\u001b[0m\u001b[1;33m.\u001b[0m\u001b[0m_takeable\u001b[0m\u001b[1;33m)\u001b[0m\u001b[1;33m\u001b[0m\u001b[0m\n\u001b[0m\u001b[0;32m   2143\u001b[0m \u001b[1;33m\u001b[0m\u001b[0m\n\u001b[0;32m   2144\u001b[0m     \u001b[1;32mdef\u001b[0m \u001b[0m__setitem__\u001b[0m\u001b[1;33m(\u001b[0m\u001b[0mself\u001b[0m\u001b[1;33m,\u001b[0m \u001b[0mkey\u001b[0m\u001b[1;33m,\u001b[0m \u001b[0mvalue\u001b[0m\u001b[1;33m)\u001b[0m\u001b[1;33m:\u001b[0m\u001b[1;33m\u001b[0m\u001b[0m\n",
      "\u001b[1;32mc:\\users\\jacke\\appdata\\local\\programs\\python\\python36-32\\lib\\site-packages\\pandas\\core\\frame.py\u001b[0m in \u001b[0;36m_get_value\u001b[1;34m(self, index, col, takeable)\u001b[0m\n\u001b[0;32m   2531\u001b[0m         \u001b[1;32mif\u001b[0m \u001b[0mtakeable\u001b[0m\u001b[1;33m:\u001b[0m\u001b[1;33m\u001b[0m\u001b[0m\n\u001b[0;32m   2532\u001b[0m             \u001b[0mseries\u001b[0m \u001b[1;33m=\u001b[0m \u001b[0mself\u001b[0m\u001b[1;33m.\u001b[0m\u001b[0m_iget_item_cache\u001b[0m\u001b[1;33m(\u001b[0m\u001b[0mcol\u001b[0m\u001b[1;33m)\u001b[0m\u001b[1;33m\u001b[0m\u001b[0m\n\u001b[1;32m-> 2533\u001b[1;33m             \u001b[1;32mreturn\u001b[0m \u001b[0mcom\u001b[0m\u001b[1;33m.\u001b[0m\u001b[0m_maybe_box_datetimelike\u001b[0m\u001b[1;33m(\u001b[0m\u001b[0mseries\u001b[0m\u001b[1;33m.\u001b[0m\u001b[0m_values\u001b[0m\u001b[1;33m[\u001b[0m\u001b[0mindex\u001b[0m\u001b[1;33m]\u001b[0m\u001b[1;33m)\u001b[0m\u001b[1;33m\u001b[0m\u001b[0m\n\u001b[0m\u001b[0;32m   2534\u001b[0m \u001b[1;33m\u001b[0m\u001b[0m\n\u001b[0;32m   2535\u001b[0m         \u001b[0mseries\u001b[0m \u001b[1;33m=\u001b[0m \u001b[0mself\u001b[0m\u001b[1;33m.\u001b[0m\u001b[0m_get_item_cache\u001b[0m\u001b[1;33m(\u001b[0m\u001b[0mcol\u001b[0m\u001b[1;33m)\u001b[0m\u001b[1;33m\u001b[0m\u001b[0m\n",
      "\u001b[1;31mIndexError\u001b[0m: index 0 is out of bounds for axis 0 with size 0"
     ]
    }
   ],
   "source": [
    "#Datos para evaluaciones por operador y mes con escala modificada\n",
    "df1=df.groupby(['carrier', 'periodo'], as_index=False).agg({'evaluation_mod':['mean']})\n",
    "df2=df.groupby(['periodo'], as_index=False).agg({'evaluation_mod':['mean']})\n",
    "operadores=df.carrier.unique()\n",
    "tiempos=[]\n",
    "observaciones=[]\n",
    "leyenda = ['Punta Mañana', 'Punta Tarde', 'Valle', 'Nocturno']\n",
    "Periodos=['Punta Mañana', 'Punta Tarde', 'Valle', 'Nocturno']\n",
    "colors = ['#9E9E9E', '#757575', '#7DC242', 'green']\n",
    "data = [[0 for _ in range(len(Periodos))] for _ in range(len(operadores)+1)] \n",
    "\n",
    "observacion = df[['duration(min)']].count().values[0]\n",
    "observaciones.append((round(observacion, 1)))\n",
    "\n",
    "percentages = []       \n",
    "for max_value in Periodos:\n",
    "    df3=df2[(df2['periodo']==max_value)]['evaluation_mod']\n",
    "    value=df3.iat[0,0]\n",
    "    value=round(value,1)\n",
    "    percentages.append(value)\n",
    "    \n",
    "for index, percentage in enumerate(percentages):\n",
    "    data[0][index] = percentage \n",
    "\n",
    "for month_index, i in enumerate(operadores):\n",
    "    percentages = []\n",
    "    \n",
    "    for max_value in Periodos:\n",
    "        df3=df1[(df1['periodo']==max_value) & (df1['carrier']==i)]['evaluation_mod']\n",
    "        value=df3.iat[0,0]\n",
    "        value=round(value,1)\n",
    "        percentages.append(value)\n",
    "        \n",
    "    for index, percentage in enumerate(percentages):\n",
    "        data[month_index+1][index] = percentage \n",
    "        \n",
    "    observacion = df[(df['carrier']==i)]['duration(min)'].count()\n",
    "    observaciones.append((round(observacion, 1)))\n",
    "\n",
    "\n",
    "operadores=['Total']\n",
    "for i in list(df.carrier.unique()):\n",
    "    operadores.append(i)\n",
    "    \n",
    "make_chart3(operadores, leyenda, data, colors, observaciones)"
   ]
  },
  {
   "cell_type": "code",
   "execution_count": 61,
   "metadata": {},
   "outputs": [
    {
     "data": {
      "text/html": [
       "<div>\n",
       "<style scoped>\n",
       "    .dataframe tbody tr th:only-of-type {\n",
       "        vertical-align: middle;\n",
       "    }\n",
       "\n",
       "    .dataframe tbody tr th {\n",
       "        vertical-align: top;\n",
       "    }\n",
       "\n",
       "    .dataframe thead tr th {\n",
       "        text-align: left;\n",
       "    }\n",
       "</style>\n",
       "<table border=\"1\" class=\"dataframe\">\n",
       "  <thead>\n",
       "    <tr>\n",
       "      <th></th>\n",
       "      <th>periodo</th>\n",
       "      <th>evaluation_mod</th>\n",
       "    </tr>\n",
       "    <tr>\n",
       "      <th></th>\n",
       "      <th></th>\n",
       "      <th>count</th>\n",
       "    </tr>\n",
       "  </thead>\n",
       "  <tbody>\n",
       "    <tr>\n",
       "      <th>0</th>\n",
       "      <td>Nocturno</td>\n",
       "      <td>79</td>\n",
       "    </tr>\n",
       "    <tr>\n",
       "      <th>1</th>\n",
       "      <td>Punta Tarde</td>\n",
       "      <td>415</td>\n",
       "    </tr>\n",
       "    <tr>\n",
       "      <th>2</th>\n",
       "      <td>Valle</td>\n",
       "      <td>1788</td>\n",
       "    </tr>\n",
       "  </tbody>\n",
       "</table>\n",
       "</div>"
      ],
      "text/plain": [
       "       periodo evaluation_mod\n",
       "                        count\n",
       "0     Nocturno             79\n",
       "1  Punta Tarde            415\n",
       "2        Valle           1788"
      ]
     },
     "execution_count": 61,
     "metadata": {},
     "output_type": "execute_result"
    }
   ],
   "source": [
    "df.groupby(['periodo'], as_index=False).agg({'evaluation_mod':['count']})"
   ]
  },
  {
   "cell_type": "code",
   "execution_count": 68,
   "metadata": {},
   "outputs": [
    {
     "data": {
      "text/html": [
       "<div>\n",
       "<style scoped>\n",
       "    .dataframe tbody tr th:only-of-type {\n",
       "        vertical-align: middle;\n",
       "    }\n",
       "\n",
       "    .dataframe tbody tr th {\n",
       "        vertical-align: top;\n",
       "    }\n",
       "\n",
       "    .dataframe thead th {\n",
       "        text-align: right;\n",
       "    }\n",
       "</style>\n",
       "<table border=\"1\" class=\"dataframe\">\n",
       "  <thead>\n",
       "    <tr style=\"text-align: right;\">\n",
       "      <th></th>\n",
       "      <th>index</th>\n",
       "      <th>Servicio</th>\n",
       "      <th>Sentido</th>\n",
       "      <th>Sentido</th>\n",
       "      <th>Observaciones</th>\n",
       "    </tr>\n",
       "  </thead>\n",
       "  <tbody>\n",
       "  </tbody>\n",
       "</table>\n",
       "</div>"
      ],
      "text/plain": [
       "Empty DataFrame\n",
       "Columns: [index, Servicio, Sentido, Sentido, Observaciones]\n",
       "Index: []"
      ]
     },
     "execution_count": 68,
     "metadata": {},
     "output_type": "execute_result"
    }
   ],
   "source": [
    "test=df.groupby(['route', 'direction'], as_index=False ).agg({'evaluation_mod':'mean', 'tripId': 'count'})\n",
    "test=test[test['tripId']>=50].sort_values(['evaluation_mod'], ascending=[True]).reset_index()\n",
    "test = test.rename(columns={'route': 'Servicio', 'direction': 'Sentido', 'evaluation_mod': 'Sentido', 'tripId': 'Observaciones'})\n",
    "test"
   ]
  },
  {
   "cell_type": "code",
   "execution_count": 69,
   "metadata": {},
   "outputs": [],
   "source": [
    "test=df.groupby(['route', 'direction'], as_index=False ).agg({'evaluation_mod':'mean', 'tripId': 'count'})\n",
    "test=test[test['tripId']>=50].sort_values(['evaluation_mod'], ascending=[False]).reset_index()\n",
    "test = test.rename(columns={'route': 'Servicio', 'direction': 'Sentido', 'evaluation_mod': 'Sentido', 'tripId': 'Observaciones'})"
   ]
  },
  {
   "cell_type": "code",
   "execution_count": 70,
   "metadata": {},
   "outputs": [],
   "source": [
    "tpos_viaje=df['duration(min)']"
   ]
  },
  {
   "cell_type": "code",
   "execution_count": 71,
   "metadata": {},
   "outputs": [],
   "source": [
    "tpos_viaje.to_csv(\"tpo_etapas.csv\", encoding='utf-8', index=False, sep=',')"
   ]
  },
  {
   "cell_type": "code",
   "execution_count": 72,
   "metadata": {},
   "outputs": [
    {
     "data": {
      "text/html": [
       "<div>\n",
       "<style scoped>\n",
       "    .dataframe tbody tr th:only-of-type {\n",
       "        vertical-align: middle;\n",
       "    }\n",
       "\n",
       "    .dataframe tbody tr th {\n",
       "        vertical-align: top;\n",
       "    }\n",
       "\n",
       "    .dataframe thead th {\n",
       "        text-align: right;\n",
       "    }\n",
       "</style>\n",
       "<table border=\"1\" class=\"dataframe\">\n",
       "  <thead>\n",
       "    <tr style=\"text-align: right;\">\n",
       "      <th></th>\n",
       "      <th>index</th>\n",
       "      <th>Comuna</th>\n",
       "      <th>Evaluacion</th>\n",
       "      <th>Cantidad</th>\n",
       "    </tr>\n",
       "  </thead>\n",
       "  <tbody>\n",
       "    <tr>\n",
       "      <th>0</th>\n",
       "      <td>17</td>\n",
       "      <td>PENALOLEN</td>\n",
       "      <td>6.000000</td>\n",
       "      <td>2</td>\n",
       "    </tr>\n",
       "    <tr>\n",
       "      <th>1</th>\n",
       "      <td>19</td>\n",
       "      <td>PUDAHUEL</td>\n",
       "      <td>6.000000</td>\n",
       "      <td>5</td>\n",
       "    </tr>\n",
       "    <tr>\n",
       "      <th>2</th>\n",
       "      <td>9</td>\n",
       "      <td>LA PINTANA</td>\n",
       "      <td>6.000000</td>\n",
       "      <td>3</td>\n",
       "    </tr>\n",
       "    <tr>\n",
       "      <th>3</th>\n",
       "      <td>1</td>\n",
       "      <td>CERRO NAVIA</td>\n",
       "      <td>6.000000</td>\n",
       "      <td>1</td>\n",
       "    </tr>\n",
       "    <tr>\n",
       "      <th>4</th>\n",
       "      <td>15</td>\n",
       "      <td>PADRE HURTADO</td>\n",
       "      <td>6.000000</td>\n",
       "      <td>1</td>\n",
       "    </tr>\n",
       "    <tr>\n",
       "      <th>5</th>\n",
       "      <td>13</td>\n",
       "      <td>MAIPU</td>\n",
       "      <td>5.611111</td>\n",
       "      <td>432</td>\n",
       "    </tr>\n",
       "    <tr>\n",
       "      <th>6</th>\n",
       "      <td>27</td>\n",
       "      <td>SAN RAMON</td>\n",
       "      <td>5.578947</td>\n",
       "      <td>19</td>\n",
       "    </tr>\n",
       "    <tr>\n",
       "      <th>7</th>\n",
       "      <td>7</td>\n",
       "      <td>LA FLORIDA</td>\n",
       "      <td>5.565684</td>\n",
       "      <td>373</td>\n",
       "    </tr>\n",
       "    <tr>\n",
       "      <th>8</th>\n",
       "      <td>4</td>\n",
       "      <td>ESTACION CENTRAL</td>\n",
       "      <td>5.547826</td>\n",
       "      <td>115</td>\n",
       "    </tr>\n",
       "    <tr>\n",
       "      <th>9</th>\n",
       "      <td>22</td>\n",
       "      <td>RECOLETA</td>\n",
       "      <td>5.500000</td>\n",
       "      <td>4</td>\n",
       "    </tr>\n",
       "    <tr>\n",
       "      <th>10</th>\n",
       "      <td>12</td>\n",
       "      <td>MACUL</td>\n",
       "      <td>5.473684</td>\n",
       "      <td>19</td>\n",
       "    </tr>\n",
       "    <tr>\n",
       "      <th>11</th>\n",
       "      <td>10</td>\n",
       "      <td>LO ESPEJO</td>\n",
       "      <td>5.466667</td>\n",
       "      <td>30</td>\n",
       "    </tr>\n",
       "    <tr>\n",
       "      <th>12</th>\n",
       "      <td>5</td>\n",
       "      <td>INDEPENDENCIA</td>\n",
       "      <td>5.458333</td>\n",
       "      <td>48</td>\n",
       "    </tr>\n",
       "    <tr>\n",
       "      <th>13</th>\n",
       "      <td>28</td>\n",
       "      <td>SANTIAGO</td>\n",
       "      <td>5.411765</td>\n",
       "      <td>204</td>\n",
       "    </tr>\n",
       "    <tr>\n",
       "      <th>14</th>\n",
       "      <td>8</td>\n",
       "      <td>LA GRANJA</td>\n",
       "      <td>5.400000</td>\n",
       "      <td>60</td>\n",
       "    </tr>\n",
       "    <tr>\n",
       "      <th>15</th>\n",
       "      <td>18</td>\n",
       "      <td>PROVIDENCIA</td>\n",
       "      <td>5.333333</td>\n",
       "      <td>9</td>\n",
       "    </tr>\n",
       "    <tr>\n",
       "      <th>16</th>\n",
       "      <td>14</td>\n",
       "      <td>NUNOA</td>\n",
       "      <td>5.333333</td>\n",
       "      <td>24</td>\n",
       "    </tr>\n",
       "    <tr>\n",
       "      <th>17</th>\n",
       "      <td>11</td>\n",
       "      <td>LO PRADO</td>\n",
       "      <td>5.333333</td>\n",
       "      <td>9</td>\n",
       "    </tr>\n",
       "    <tr>\n",
       "      <th>18</th>\n",
       "      <td>26</td>\n",
       "      <td>SAN MIGUEL</td>\n",
       "      <td>5.265306</td>\n",
       "      <td>49</td>\n",
       "    </tr>\n",
       "    <tr>\n",
       "      <th>19</th>\n",
       "      <td>0</td>\n",
       "      <td>CERRILLOS</td>\n",
       "      <td>5.261538</td>\n",
       "      <td>65</td>\n",
       "    </tr>\n",
       "    <tr>\n",
       "      <th>20</th>\n",
       "      <td>6</td>\n",
       "      <td>LA CISTERNA</td>\n",
       "      <td>5.209302</td>\n",
       "      <td>43</td>\n",
       "    </tr>\n",
       "    <tr>\n",
       "      <th>21</th>\n",
       "      <td>25</td>\n",
       "      <td>SAN JOAQUIN</td>\n",
       "      <td>5.200000</td>\n",
       "      <td>20</td>\n",
       "    </tr>\n",
       "    <tr>\n",
       "      <th>22</th>\n",
       "      <td>16</td>\n",
       "      <td>PEDRO AGUIRRE CERDA</td>\n",
       "      <td>5.130435</td>\n",
       "      <td>23</td>\n",
       "    </tr>\n",
       "    <tr>\n",
       "      <th>23</th>\n",
       "      <td>20</td>\n",
       "      <td>PUENTE ALTO</td>\n",
       "      <td>5.120000</td>\n",
       "      <td>25</td>\n",
       "    </tr>\n",
       "    <tr>\n",
       "      <th>24</th>\n",
       "      <td>23</td>\n",
       "      <td>RENCA</td>\n",
       "      <td>5.090909</td>\n",
       "      <td>22</td>\n",
       "    </tr>\n",
       "    <tr>\n",
       "      <th>25</th>\n",
       "      <td>2</td>\n",
       "      <td>CONCHALI</td>\n",
       "      <td>5.090909</td>\n",
       "      <td>22</td>\n",
       "    </tr>\n",
       "    <tr>\n",
       "      <th>26</th>\n",
       "      <td>21</td>\n",
       "      <td>QUILICURA</td>\n",
       "      <td>5.072464</td>\n",
       "      <td>69</td>\n",
       "    </tr>\n",
       "    <tr>\n",
       "      <th>27</th>\n",
       "      <td>3</td>\n",
       "      <td>EL BOSQUE</td>\n",
       "      <td>5.000000</td>\n",
       "      <td>6</td>\n",
       "    </tr>\n",
       "    <tr>\n",
       "      <th>28</th>\n",
       "      <td>24</td>\n",
       "      <td>SAN BERNARDO</td>\n",
       "      <td>4.666667</td>\n",
       "      <td>3</td>\n",
       "    </tr>\n",
       "  </tbody>\n",
       "</table>\n",
       "</div>"
      ],
      "text/plain": [
       "    index               Comuna  Evaluacion  Cantidad\n",
       "0      17            PENALOLEN    6.000000         2\n",
       "1      19             PUDAHUEL    6.000000         5\n",
       "2       9           LA PINTANA    6.000000         3\n",
       "3       1          CERRO NAVIA    6.000000         1\n",
       "4      15        PADRE HURTADO    6.000000         1\n",
       "5      13                MAIPU    5.611111       432\n",
       "6      27            SAN RAMON    5.578947        19\n",
       "7       7           LA FLORIDA    5.565684       373\n",
       "8       4     ESTACION CENTRAL    5.547826       115\n",
       "9      22             RECOLETA    5.500000         4\n",
       "10     12                MACUL    5.473684        19\n",
       "11     10            LO ESPEJO    5.466667        30\n",
       "12      5        INDEPENDENCIA    5.458333        48\n",
       "13     28             SANTIAGO    5.411765       204\n",
       "14      8            LA GRANJA    5.400000        60\n",
       "15     18          PROVIDENCIA    5.333333         9\n",
       "16     14                NUNOA    5.333333        24\n",
       "17     11             LO PRADO    5.333333         9\n",
       "18     26           SAN MIGUEL    5.265306        49\n",
       "19      0            CERRILLOS    5.261538        65\n",
       "20      6          LA CISTERNA    5.209302        43\n",
       "21     25          SAN JOAQUIN    5.200000        20\n",
       "22     16  PEDRO AGUIRRE CERDA    5.130435        23\n",
       "23     20          PUENTE ALTO    5.120000        25\n",
       "24     23                RENCA    5.090909        22\n",
       "25      2             CONCHALI    5.090909        22\n",
       "26     21            QUILICURA    5.072464        69\n",
       "27      3            EL BOSQUE    5.000000         6\n",
       "28     24         SAN BERNARDO    4.666667         3"
      ]
     },
     "execution_count": 72,
     "metadata": {},
     "output_type": "execute_result"
    }
   ],
   "source": [
    "comuna=df.groupby(['countyBegin'], as_index=False ).agg({'evaluation_mod':'mean', 'tripId': 'count'})\n",
    "comuna=comuna.sort_values(['evaluation_mod'], ascending=[False]).reset_index()\n",
    "comuna= comuna.rename(columns={'countyBegin': 'Comuna', 'evaluation_mod': 'Evaluacion', 'tripId': 'Cantidad'})\n",
    "comuna"
   ]
  },
  {
   "cell_type": "code",
   "execution_count": 73,
   "metadata": {},
   "outputs": [],
   "source": [
    "comuna.to_csv(\"eva_comunas.csv\", encoding='utf-8', index=False, sep=',')"
   ]
  },
  {
   "cell_type": "code",
   "execution_count": null,
   "metadata": {},
   "outputs": [],
   "source": []
  }
 ],
 "metadata": {
  "kernelspec": {
   "display_name": "Python 3 (ipykernel)",
   "language": "python",
   "name": "python3"
  },
  "language_info": {
   "codemirror_mode": {
    "name": "ipython",
    "version": 3
   },
   "file_extension": ".py",
   "mimetype": "text/x-python",
   "name": "python",
   "nbconvert_exporter": "python",
   "pygments_lexer": "ipython3",
   "version": "3.8.0"
  }
 },
 "nbformat": 4,
 "nbformat_minor": 2
}
